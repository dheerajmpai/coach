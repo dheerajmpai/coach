{
  "nbformat": 4,
  "nbformat_minor": 0,
  "metadata": {
    "colab": {
      "provenance": []
    },
    "kernelspec": {
      "name": "python3",
      "display_name": "Python 3"
    },
    "language_info": {
      "name": "python"
    },
    "gpuClass": "standard",
    "accelerator": "GPU"
  },
  "cells": [
    {
      "cell_type": "code",
      "execution_count": 1,
      "metadata": {
        "id": "6999mXBSEoHl"
      },
      "outputs": [],
      "source": [
        "import argparse\n",
        "from collections import defaultdict, namedtuple\n",
        "from io import open\n",
        "import math\n",
        "import os\n",
        "from random import shuffle, uniform\n",
        "from datetime import datetime\n",
        "from future.utils import iterkeys, iteritems\n",
        "import torch\n",
        "\n",
        "from future.builtins import range\n",
        "from future.utils import iteritems\n",
        "import pickle\n",
        "import numpy as np\n",
        "from torch.nn.utils.rnn import pad_sequence, pack_padded_sequence, pad_packed_sequence"
      ]
    },
    {
      "cell_type": "code",
      "source": [
        "# !pip install scipy\n",
        "# !pip install matplotlib\n",
        "# !pip install sklearn\n",
        "!pip install torchsummaryX -q\n",
        "from torchsummaryX import summary"
      ],
      "metadata": {
        "id": "kQUs_FYrHQEO"
      },
      "execution_count": 2,
      "outputs": []
    },
    {
      "cell_type": "code",
      "source": [
        "import gc"
      ],
      "metadata": {
        "id": "sOY6ysWQ1EwA"
      },
      "execution_count": 3,
      "outputs": []
    },
    {
      "cell_type": "code",
      "source": [
        "device = 'cuda' if torch.cuda.is_available() else 'cpu'"
      ],
      "metadata": {
        "id": "VmO3lJnO23IR"
      },
      "execution_count": 4,
      "outputs": []
    },
    {
      "cell_type": "code",
      "source": [
        "#Get Glove Vectors\n",
        "!wget https://nlp.stanford.edu/data/glove.6B.zip\n",
        "!unzip /content/glove.6B.zip"
      ],
      "metadata": {
        "colab": {
          "base_uri": "https://localhost:8080/"
        },
        "id": "t6PvbACjSGzA",
        "outputId": "9bfaf42f-5d66-43e2-f548-fedf913f4eb7"
      },
      "execution_count": null,
      "outputs": [
        {
          "output_type": "stream",
          "name": "stdout",
          "text": [
            "--2023-04-21 19:45:22--  https://nlp.stanford.edu/data/glove.6B.zip\n",
            "Resolving nlp.stanford.edu (nlp.stanford.edu)... 171.64.67.140\n",
            "Connecting to nlp.stanford.edu (nlp.stanford.edu)|171.64.67.140|:443... connected.\n",
            "HTTP request sent, awaiting response... 301 Moved Permanently\n",
            "Location: https://downloads.cs.stanford.edu/nlp/data/glove.6B.zip [following]\n",
            "--2023-04-21 19:45:23--  https://downloads.cs.stanford.edu/nlp/data/glove.6B.zip\n",
            "Resolving downloads.cs.stanford.edu (downloads.cs.stanford.edu)... 171.64.64.22\n",
            "Connecting to downloads.cs.stanford.edu (downloads.cs.stanford.edu)|171.64.64.22|:443... connected.\n",
            "HTTP request sent, awaiting response... 200 OK\n",
            "Length: 862182613 (822M) [application/zip]\n",
            "Saving to: ‘glove.6B.zip’\n",
            "\n",
            "glove.6B.zip        100%[===================>] 822.24M  5.01MB/s    in 2m 39s  \n",
            "\n",
            "2023-04-21 19:48:02 (5.17 MB/s) - ‘glove.6B.zip’ saved [862182613/862182613]\n",
            "\n",
            "Archive:  /content/glove.6B.zip\n",
            "  inflating: glove.6B.50d.txt        \n",
            "  inflating: glove.6B.100d.txt       \n",
            "  inflating: glove.6B.200d.txt       \n",
            "  inflating: glove.6B.300d.txt       \n"
          ]
        }
      ]
    },
    {
      "cell_type": "code",
      "source": [
        "#Prepare Glove Vectors\n",
        "word2vec = {}\n",
        "with open(\"/content/glove.6B.50d.txt\", 'r', encoding=\"utf-8\") as f:\n",
        "    for l in f:\n",
        "        line = l.split()\n",
        "        word = line[0]\n",
        "        vect = np.array(line[1:]).astype(float)\n",
        "        word2vec[word] = vect\n",
        "pickle.dump(word2vec, open(f'/content/6B.50_word2Vec.pkl', 'wb'))"
      ],
      "metadata": {
        "id": "O5UWvnXoSJFH"
      },
      "execution_count": 5,
      "outputs": []
    },
    {
      "cell_type": "markdown",
      "source": [
        "# Data Loading Utilities"
      ],
      "metadata": {
        "id": "XV93xsMXSVzt"
      }
    },
    {
      "cell_type": "code",
      "source": [
        "class InstanceData(object):\n",
        "    \"\"\"\n",
        "    A bare-bones class to store the included properties of each instance. This is meant to act as easy access to the\n",
        "    data, and provides a launching point for deriving your own features from the data.\n",
        "    \"\"\"\n",
        "    def __init__(self, instance_properties):\n",
        "\n",
        "        # Parameters specific to this instance\n",
        "        self.instance_id = instance_properties['instance_id']\n",
        "        self.token = instance_properties['token']\n",
        "        self.part_of_speech = instance_properties['part_of_speech']\n",
        "        self.morphological_features = instance_properties['morphological_features']\n",
        "        self.dependency_label = instance_properties['dependency_label']\n",
        "        self.dependency_edge_head = instance_properties['dependency_edge_head']\n",
        "\n",
        "        # Derived parameters specific to this instance\n",
        "        self.exercise_index = int(self.instance_id[8:10])\n",
        "        self.token_index = int(self.instance_id[10:12])\n",
        "\n",
        "        # Derived parameters specific to this exercise\n",
        "        self.exercise_id = self.instance_id[:10]\n",
        "\n",
        "        # Parameters shared across the whole session\n",
        "        self.user = instance_properties['user']\n",
        "        self.countries = instance_properties['countries']\n",
        "        self.days = instance_properties['days']\n",
        "        self.client = instance_properties['client']\n",
        "        self.session = instance_properties['session']\n",
        "        self.format = instance_properties['format']\n",
        "        self.time = instance_properties['time']\n",
        "        self.prompt = instance_properties.get('prompt', None)\n",
        "\n",
        "        # Derived parameters shared across the whole session\n",
        "        self.session_id = self.instance_id[:8]\n",
        "\n",
        "    def to_features(self):\n",
        "        \"\"\"\n",
        "        Prepares those features that we wish to use in the LogisticRegression example in this file. We introduce a bias,\n",
        "        and take a few included features to use. Note that this dict restructures the corresponding features of the\n",
        "        input dictionary, 'instance_properties'.\n",
        "\n",
        "        Returns:\n",
        "            to_return: a representation of the features we'll use for logistic regression in a dict. A key/feature is a\n",
        "                key/value pair of the original 'instance_properties' dict, and we encode this feature as 1.0 for 'hot'.\n",
        "        \"\"\"\n",
        "        to_return = dict()\n",
        "\n",
        "        to_return['bias'] = 1.0\n",
        "        to_return['user:' + self.user] = 1.0\n",
        "        to_return['format:' + self.format] = 1.0\n",
        "        to_return['token:' + self.token.lower()] = 1.0\n",
        "\n",
        "        to_return['part_of_speech:' + self.part_of_speech] = 1.0\n",
        "        for morphological_feature in self.morphological_features:\n",
        "            to_return['morphological_feature:' + morphological_feature] = 1.0\n",
        "        to_return['dependency_label:' + self.dependency_label] = 1.0\n",
        "        \n",
        "        time = datetime.now()\n",
        "        if(time.second %10 == 0 and time.microsecond == 0):\n",
        "          print(time)\n",
        "          \n",
        "        return to_return"
      ],
      "metadata": {
        "id": "r1dTGVEBSU6a"
      },
      "execution_count": 6,
      "outputs": []
    },
    {
      "cell_type": "code",
      "source": [
        "#Load data from the file\n",
        "def load_data(filename):\n",
        "    \"\"\"\n",
        "    This method loads and returns the data in filename. If the data is labelled training data, it returns labels too.\n",
        "\n",
        "    Parameters:\n",
        "        filename: the location of the training or test data you want to load.\n",
        "\n",
        "    Returns:\n",
        "        data: a list of InstanceData objects from that data type and track.\n",
        "        labels (optional): if you specified training data, a dict of instance_id:label pairs.\n",
        "    \"\"\"\n",
        "\n",
        "    # 'data' stores a list of 'InstanceData's as values.\n",
        "    data = []\n",
        "\n",
        "    # If this is training data, then 'labels' is a dict that contains instance_ids as keys and labels as values.\n",
        "    training = False\n",
        "    if filename.find('train') != -1:\n",
        "        training = True\n",
        "\n",
        "    if training:\n",
        "        labels = dict()\n",
        "\n",
        "    num_exercises = 0\n",
        "    print('Loading instances...')\n",
        "    instance_properties = dict()\n",
        "\n",
        "    with open(filename, 'rt') as f:\n",
        "        for line in f:\n",
        "            line = line.strip()\n",
        "\n",
        "            # If there's nothing in the line, then we're done with the exercise. Print if needed, otherwise continue\n",
        "            if len(line) == 0:\n",
        "                num_exercises += 1\n",
        "                if num_exercises % 100000 == 0:\n",
        "                    print('Loaded ' + str(len(data)) + ' instances across ' + str(num_exercises) + ' exercises...')\n",
        "                instance_properties = dict()\n",
        "\n",
        "            # If the line starts with #, then we're beginning a new exercise\n",
        "            elif line[0] == '#':\n",
        "                if 'prompt' in line:\n",
        "                    instance_properties['prompt'] = line.split(':')[1]\n",
        "                else:\n",
        "                    list_of_exercise_parameters = line[2:].split()\n",
        "                    for exercise_parameter in list_of_exercise_parameters:\n",
        "                        [key, value] = exercise_parameter.split(':')\n",
        "                        if key == 'countries':\n",
        "                            value = value.split('|')\n",
        "                        elif key == 'days':\n",
        "                            value = float(value)\n",
        "                        elif key == 'time':\n",
        "                            if value == 'null':\n",
        "                                value = None\n",
        "                            else:\n",
        "                                assert '.' not in value\n",
        "                                value = int(value)\n",
        "                        instance_properties[key] = value\n",
        "\n",
        "            # Otherwise we're parsing a new Instance for the current exercise\n",
        "            else:\n",
        "                line = line.split()\n",
        "                if training:\n",
        "                    assert len(line) == 7\n",
        "                else:\n",
        "                    assert len(line) == 6\n",
        "                assert len(line[0]) == 12\n",
        "\n",
        "                instance_properties['instance_id'] = line[0]\n",
        "\n",
        "                instance_properties['token'] = line[1]\n",
        "                instance_properties['part_of_speech'] = line[2]\n",
        "\n",
        "                instance_properties['morphological_features'] = dict()\n",
        "                for l in line[3].split('|'):\n",
        "                    [key, value] = l.split('=')\n",
        "                    if key == 'Person':\n",
        "                        value = int(value)\n",
        "                    instance_properties['morphological_features'][key] = value\n",
        "\n",
        "                instance_properties['dependency_label'] = line[4]\n",
        "                instance_properties['dependency_edge_head'] = int(line[5])\n",
        "                if training:\n",
        "                    label = float(line[6])\n",
        "                    labels[instance_properties['instance_id']] = label\n",
        "                data.append(InstanceData(instance_properties=instance_properties))\n",
        "\n",
        "        print('Done loading ' + str(len(data)) + ' instances across ' + str(num_exercises) +\n",
        "              ' exercises.\\n')\n",
        "\n",
        "    if training:\n",
        "        return data, labels\n",
        "    else:\n",
        "        return data"
      ],
      "metadata": {
        "id": "ZYZ_49knNvCh"
      },
      "execution_count": 7,
      "outputs": []
    },
    {
      "cell_type": "code",
      "source": [
        "def load_labels(filename):\n",
        "    \"\"\"\n",
        "    This loads labels, either the actual ones or your predictions.\n",
        "\n",
        "    Parameters:\n",
        "        filename: the filename pointing to your labels\n",
        "\n",
        "    Returns:\n",
        "        labels: a dict of instance_ids as keys and labels between 0 and 1 as values\n",
        "    \"\"\"\n",
        "    labels = dict()\n",
        "\n",
        "    with open(filename, 'rt') as f:\n",
        "        for line in f:\n",
        "            line = line.strip()\n",
        "            if len(line) == 0:\n",
        "                continue\n",
        "            else:\n",
        "                line = line.split()\n",
        "            instance_id = line[0]\n",
        "            label = float(line[1])\n",
        "            labels[instance_id] = label\n",
        "    return labels\n"
      ],
      "metadata": {
        "id": "rcchIvdkznBF"
      },
      "execution_count": 8,
      "outputs": []
    },
    {
      "cell_type": "code",
      "source": [
        "def compute_acc(actual, predicted):\n",
        "    \"\"\"\n",
        "    Computes the accuracy of your predictions, using 0.5 as a cutoff.\n",
        "\n",
        "    Note that these inputs are lists, not dicts; they assume that actual and predicted are in the same order.\n",
        "\n",
        "    Parameters (here and below):\n",
        "        actual: a list of the actual labels\n",
        "        predicted: a list of your predicted labels\n",
        "    \"\"\"\n",
        "    num = len(actual)\n",
        "    acc = 0.\n",
        "    for i in range(num):\n",
        "        if round(actual[i], 0) == round(predicted[i], 0):\n",
        "            acc += 1.\n",
        "    acc /= num\n",
        "    return acc\n",
        "\n",
        "\n",
        "def compute_avg_log_loss(actual, predicted):\n",
        "    \"\"\"\n",
        "    Computes the average log loss of your predictions.\n",
        "    \"\"\"\n",
        "    num = len(actual)\n",
        "    loss = 0.\n",
        "\n",
        "    for i in range(num):\n",
        "        p = predicted[i] if actual[i] > .5 else 1. - predicted[i]\n",
        "        loss -= math.log(p)\n",
        "    loss /= num\n",
        "    return loss\n",
        "\n",
        "\n",
        "def compute_auroc(actual, predicted):\n",
        "    \"\"\"\n",
        "    Computes the area under the receiver-operator characteristic curve.\n",
        "    This code a rewriting of code by Ben Hamner, available here:\n",
        "    https://github.com/benhamner/Metrics/blob/master/Python/ml_metrics/auc.py\n",
        "    \"\"\"\n",
        "    num = len(actual)\n",
        "    temp = sorted([[predicted[i], actual[i]] for i in range(num)], reverse=True)\n",
        "\n",
        "    sorted_predicted = [row[0] for row in temp]\n",
        "    sorted_actual = [row[1] for row in temp]\n",
        "\n",
        "    sorted_posterior = sorted(zip(sorted_predicted, range(len(sorted_predicted))))\n",
        "    r = [0 for k in sorted_predicted]\n",
        "    cur_val = sorted_posterior[0][0]\n",
        "    last_rank = 0\n",
        "    for i in range(len(sorted_posterior)):\n",
        "        if cur_val != sorted_posterior[i][0]:\n",
        "            cur_val = sorted_posterior[i][0]\n",
        "            for j in range(last_rank, i):\n",
        "                r[sorted_posterior[j][1]] = float(last_rank+1+i)/2.0\n",
        "            last_rank = i\n",
        "        if i==len(sorted_posterior)-1:\n",
        "            for j in range(last_rank, i+1):\n",
        "                r[sorted_posterior[j][1]] = float(last_rank+i+2)/2.0\n",
        "\n",
        "    num_positive = len([0 for x in sorted_actual if x == 1])\n",
        "    num_negative = num - num_positive\n",
        "    sum_positive = sum([r[i] for i in range(len(r)) if sorted_actual[i] == 1])\n",
        "    auroc = ((sum_positive - num_positive * (num_positive + 1) / 2.0) / (num_negative * num_positive))\n",
        "\n",
        "    return auroc\n",
        "\n",
        "\n",
        "def compute_f1(actual, predicted, cutoff = 0.5):\n",
        "    \"\"\"\n",
        "    Computes the F1 score of your predictions. Note that we use 0.5 as the cutoff here.\n",
        "    \"\"\"\n",
        "    num = len(actual)\n",
        "\n",
        "    true_positives = 0\n",
        "    false_positives = 0\n",
        "    false_negatives = 0\n",
        "    true_negatives = 0\n",
        "\n",
        "    for i in range(num):\n",
        "        if actual[i] >= cutoff and predicted[i] >= cutoff:\n",
        "            true_positives += 1\n",
        "        elif actual[i] < cutoff and predicted[i] >= cutoff:\n",
        "            false_positives += 1\n",
        "        elif actual[i] >= cutoff and predicted[i] < cutoff:\n",
        "            false_negatives += 1\n",
        "        else:\n",
        "            true_negatives += 1\n",
        "\n",
        "    try:\n",
        "        precision = true_positives / (true_positives + false_positives)\n",
        "        recall = true_positives / (true_positives + false_negatives)\n",
        "        F1 = 2 * precision * recall / (precision + recall)\n",
        "    except ZeroDivisionError:\n",
        "        F1 = 0.0\n",
        "\n",
        "    return F1\n",
        "\n",
        "\n",
        "def evaluate_metrics(actual, predicted):\n",
        "    \"\"\"\n",
        "    This computes and returns a dictionary of notable evaluation metrics for your predicted labels.\n",
        "    \"\"\"\n",
        "    acc = compute_acc(actual, predicted)\n",
        "    #avg_log_loss = compute_avg_log_loss(actual, predicted)\n",
        "    auroc = compute_auroc(actual, predicted)\n",
        "    F1 = compute_f1(actual, predicted)\n",
        "\n",
        "    return  acc, auroc, F1 #avg_log_loss,  auroc, F1\n",
        "\n",
        "\n",
        "def test_metrics():\n",
        "    actual = [1, 0, 0, 1, 1, 0, 0, 1, 0, 1]\n",
        "    predicted = [0.8, 0.2, 0.6, 0.3, 0.1, 0.2, 0.3, 0.9, 0.2, 0.7]\n",
        "    metrics = evaluate_metrics(actual, predicted)\n",
        "    metrics = {key: round(metrics[key], 3) for key in iterkeys(metrics)}\n",
        "    assert metrics['accuracy'] == 0.700\n",
        "    assert metrics['avglogloss'] == 0.613\n",
        "    assert metrics['auroc'] == 0.740\n",
        "    assert metrics['F1'] == 0.667\n",
        "    print('Verified that our environment is calculating metrics correctly.')"
      ],
      "metadata": {
        "id": "ATRBfOp8Hj5G"
      },
      "execution_count": 9,
      "outputs": []
    },
    {
      "cell_type": "markdown",
      "source": [
        "# Load Data"
      ],
      "metadata": {
        "id": "_iN_Vd3eSbkD"
      }
    },
    {
      "cell_type": "code",
      "source": [
        "training_data, training_labels = load_data(\"/content/en_es/en_es.slam.20190204.train\")"
      ],
      "metadata": {
        "colab": {
          "base_uri": "https://localhost:8080/"
        },
        "id": "pTIRglbADFqW",
        "outputId": "aad7eba2-30d6-4551-88cc-a383f7182170"
      },
      "execution_count": 10,
      "outputs": [
        {
          "output_type": "stream",
          "name": "stdout",
          "text": [
            "Loading instances...\n",
            "Loaded 317049 instances across 100000 exercises...\n",
            "Loaded 635368 instances across 200000 exercises...\n",
            "Loaded 951536 instances across 300000 exercises...\n",
            "Loaded 1271940 instances across 400000 exercises...\n",
            "Loaded 1591344 instances across 500000 exercises...\n",
            "Loaded 1911212 instances across 600000 exercises...\n",
            "Loaded 2227444 instances across 700000 exercises...\n",
            "Loaded 2546704 instances across 800000 exercises...\n",
            "Done loading 2622957 instances across 824012 exercises.\n",
            "\n"
          ]
        }
      ]
    },
    {
      "cell_type": "code",
      "source": [
        "valid_data = load_data(\"/content/en_es/en_es.slam.20190204.dev\")\n",
        "valid_labels = load_labels(\"/content/en_es/en_es.slam.20190204.dev.key\")"
      ],
      "metadata": {
        "colab": {
          "base_uri": "https://localhost:8080/"
        },
        "id": "o56fqfEkzdQO",
        "outputId": "ecef3521-e8ce-417d-810b-2fa1c521921a"
      },
      "execution_count": 11,
      "outputs": [
        {
          "output_type": "stream",
          "name": "stdout",
          "text": [
            "Loading instances...\n",
            "Loaded 334439 instances across 100000 exercises...\n",
            "Done loading 387374 instances across 115770 exercises.\n",
            "\n"
          ]
        }
      ]
    },
    {
      "cell_type": "code",
      "source": [
        "test_data = load_data(\"/content/en_es/en_es.slam.20190204.test\")\n",
        "test_labels = load_labels(\"/content/en_es/en_es.slam.20190204.test.key\")"
      ],
      "metadata": {
        "colab": {
          "base_uri": "https://localhost:8080/"
        },
        "id": "-WRh44R3CMOY",
        "outputId": "e6fdc92b-831e-4161-c4b9-a2ce5de56edd"
      },
      "execution_count": null,
      "outputs": [
        {
          "output_type": "stream",
          "name": "stdout",
          "text": [
            "Loading instances...\n",
            "Loaded 337728 instances across 100000 exercises...\n",
            "Done loading 386604 instances across 114586 exercises.\n",
            "\n"
          ]
        }
      ]
    },
    {
      "cell_type": "code",
      "source": [
        "min_days = float('inf')\n",
        "max_days = -float('inf')\n",
        "max_time = -float('inf')\n",
        "min_time = float('inf')\n",
        "for instance in training_data:\n",
        "  days = instance.days\n",
        "  time = instance.time\n",
        "  if(time is None or time < 0):\n",
        "    time = 0\n",
        "\n",
        "  if(instance.days > max_days):\n",
        "    max_days = instance.days\n",
        "  if(instance.days < min_days):\n",
        "    min_days = instance.days\n",
        "  if(time > max_time):\n",
        "    max_time = time\n",
        "  if(time < min_time):\n",
        "    min_time = time"
      ],
      "metadata": {
        "id": "wPUAWj46iQD2"
      },
      "execution_count": 12,
      "outputs": []
    },
    {
      "cell_type": "code",
      "source": [
        "min_days,max_days,max_time,min_time"
      ],
      "metadata": {
        "colab": {
          "base_uri": "https://localhost:8080/"
        },
        "id": "Iiq7_Uugi3sx",
        "outputId": "60bb346c-797f-4cd7-83c2-af9a0a317342"
      },
      "execution_count": 13,
      "outputs": [
        {
          "output_type": "execute_result",
          "data": {
            "text/plain": [
              "(0.0, 28.042, 330554, 0)"
            ]
          },
          "metadata": {},
          "execution_count": 13
        }
      ]
    },
    {
      "cell_type": "markdown",
      "source": [
        "# Pytorch Datasets"
      ],
      "metadata": {
        "id": "kBfmHACPSfuW"
      }
    },
    {
      "cell_type": "code",
      "source": [
        "user_keyed_data = {}\n",
        "user_keyed_label = {}\n",
        "\n",
        "user_idx = 1\n",
        "user2Idx = {\"unk\" : 0}\n",
        "idx2User = {0: \"unk\"}\n",
        "user_vocabulary = [\"unk\"]\n",
        "\n",
        "token_idx = 1\n",
        "word2Idx = {\"unk\" : 0}\n",
        "token_vocabulary = [\"unk\"]\n",
        "\n",
        "\n",
        "pos_idx = 1\n",
        "pos2Idx = {\"unk\" : 0}\n",
        "pos_vocabulary = [\"unk\"]\n",
        "\n",
        "morph_idx = 1\n",
        "morph2Idx = {\"unk\" : 0}\n",
        "morph_vocab = [\"unk\"]\n",
        "\n",
        "dep_label_idx = 1\n",
        "depLabel2Idx = {\"unk\": 0}\n",
        "depLabelVocab = [\"unk\"]\n",
        "\n",
        "word_label_idx = 1\n",
        "wordLabel2Idx = {\"unk\": 0}\n",
        "wordLabelVocab = [\"unk\"]"
      ],
      "metadata": {
        "id": "--pQQ-bpuia_"
      },
      "execution_count": 14,
      "outputs": []
    },
    {
      "cell_type": "code",
      "source": [
        "class ExcerciseDataset(torch.utils.data.Dataset):\n",
        "    def get_relevant_history(self, candidate, query,sequence_length):\n",
        "      candidate = torch.stack(candidate, dim = 0)\n",
        "      score = torch.zeros(candidate.shape[0])\n",
        "      for tok in query:\n",
        "        score += torch.sum((candidate == tok).type(torch.int), dim = 1)\n",
        "\n",
        "      ind = torch.sort(torch.argsort(score)[-sequence_length:])[0]\n",
        "      history = []\n",
        "      \n",
        "      for idx in ind:\n",
        "        history.append(candidate[idx, :])\n",
        "\n",
        "      del candidate, score\n",
        "      return history, ind\n",
        "\n",
        "    def __init__(self, data, labels, sequence_size): \n",
        "        '''\n",
        "        Initializes the dataset.\n",
        "\n",
        "        INPUTS: What inputs do you need here?\n",
        "        '''\n",
        "        global user_idx\n",
        "        global user2Idx\n",
        "        global user_vocabulary\n",
        "\n",
        "        global token_idx\n",
        "        global word2Idx\n",
        "        global token_vocabulary\n",
        "\n",
        "        global pos_idx\n",
        "        global pos2Idx\n",
        "        global pos_vocabulary\n",
        "\n",
        "        global morph_idx\n",
        "        global morph2Idx\n",
        "        global morph_vocab\n",
        "\n",
        "        global dep_label_idx\n",
        "        global depLabel2Idx\n",
        "        global depLabelVocab\n",
        "\n",
        "        global word_label_idx\n",
        "        global wordLabel2Idx\n",
        "        global wordLabelVocab\n",
        "        \n",
        "        if len(user_keyed_data) == 0:\n",
        "          for i, instance in enumerate(data):\n",
        "            user = instance.user\n",
        "            if user not in user_keyed_data:\n",
        "              user_keyed_data[user] = []\n",
        "              user_keyed_label[user] = []\n",
        "            \n",
        "            exercise = []\n",
        "            \n",
        "            \n",
        "            token = instance.token.lower()\n",
        "            pos_tag = instance.part_of_speech.lower()\n",
        "            morphology = instance.morphological_features\n",
        "            dependency_label = instance.dependency_label.lower()\n",
        "            time = instance.time\n",
        "            if time is None or time < 0 or time > 100:\n",
        "              time = 0\n",
        "            days = instance.days\n",
        "            if days is None or days > 100:\n",
        "              days = 0\n",
        "            days = float((days - min_days)/float(max_days - min_days))\n",
        "            time = float((time - min_time)/float(max_time - min_time))\n",
        "            if(days > 1):\n",
        "              days = 1\n",
        "            if(time > 1):\n",
        "              time = 1\n",
        "\n",
        "            label = labels[instance.instance_id]\n",
        "            \n",
        "            if user not in user2Idx:\n",
        "              user2Idx[user] = user_idx\n",
        "              idx2User[user_idx] = user\n",
        "              user_vocabulary.append(user)\n",
        "              user_idx += 1\n",
        "\n",
        "            exercise.append(user2Idx[user])\n",
        "\n",
        "            if token not in word2Idx:\n",
        "              word2Idx[token] = token_idx\n",
        "              token_vocabulary.append(token)\n",
        "              token_idx += 1\n",
        "\n",
        "            exercise.append(word2Idx[token])\n",
        "\n",
        "            if pos_tag not in pos2Idx:\n",
        "              pos2Idx[pos_tag] = pos_idx\n",
        "              pos_vocabulary.append(pos_tag)\n",
        "              pos_idx += 1\n",
        "\n",
        "            exercise.append(pos2Idx[pos_tag])\n",
        "\n",
        "            # morph_list = []\n",
        "            # for morph_feature in morphology:\n",
        "            #   if morph_feature not in self.morph2Idx:\n",
        "            #     self.morph2Idx[morph_feature] = morph_idx\n",
        "            #     self.morph_vocab.append(morph_feature)\n",
        "            #     morph_idx += 1\n",
        "            #   morph_list.append(self.morph2Idx[morph_feature])\n",
        "            \n",
        "            # exercise.append(morph_list)\n",
        "\n",
        "            if dependency_label not in depLabel2Idx:\n",
        "              depLabel2Idx[dependency_label] = dep_label_idx\n",
        "              depLabelVocab.append(dependency_label)\n",
        "              dep_label_idx += 1\n",
        "\n",
        "            exercise.append(depLabel2Idx[dependency_label])\n",
        "            exercise.append(float(days))\n",
        "            exercise.append(float(time))\n",
        "\n",
        "            all_combined = str(token) + str(pos_tag) + str(dependency_label) + str(label)\n",
        "            if all_combined not in wordLabel2Idx:\n",
        "              wordLabel2Idx[all_combined] = word_label_idx\n",
        "              wordLabelVocab.append(all_combined)\n",
        "              word_label_idx += 1\n",
        "            exercise.append(wordLabel2Idx[all_combined])\n",
        "            \n",
        "            user_keyed_data[user].append(torch.tensor(exercise, dtype = float))\n",
        "            user_keyed_label[user].append(label)\n",
        "          \n",
        "\n",
        "        #At this point we have the exercises for each user.\n",
        "\n",
        "        self.timesteped_data = []\n",
        "        self.timesteped_labels = []\n",
        "\n",
        "        #print(self.user_keyed_data[user])\n",
        "        batch_bar = tqdm(total=len(user_keyed_data), dynamic_ncols=True, leave=False, position=0, desc='Train')\n",
        "\n",
        "        for user in user_keyed_data:\n",
        "          for i in range(0, len(user_keyed_data[user]), 30):\n",
        "            # candidate = user_keyed_data[user][:i + sequence_size//2]\n",
        "            # query = user_keyed_data[user][i + sequence_size//2:i + sequence_size]\n",
        "            # history, ind = self.get_relevant_history(candidate, query, sequence_size//2)\n",
        "            # history.extend(query)\n",
        "            # chunk = history\n",
        "            # label1 = torch.tensor(user_keyed_label[user][:i + sequence_size//2])[ind.numpy().astype(int)]\n",
        "            # label2 = torch.tensor(user_keyed_label[user][i + sequence_size//2:i + sequence_size])\n",
        "\n",
        "            chunk = user_keyed_data[user][i:i + sequence_size]\n",
        "            if(len(chunk) < 128):\n",
        "              continue;\n",
        "            self.timesteped_data.append(torch.stack(chunk,dim=0))\n",
        "            self.timesteped_labels.append(torch.tensor(user_keyed_label[user][i:i + sequence_size]))\n",
        "          \n",
        "          batch_bar.update()\n",
        "\n",
        "        self.length = len(self.timesteped_data)\n",
        "        \n",
        "    def __len__(self):\n",
        "        return self.length\n",
        "\n",
        "    def __getitem__(self, ind):\n",
        "        data = self.timesteped_data[ind] # TODO\n",
        "        labels = self.timesteped_labels[ind] # TODO\n",
        "        return data, labels\n",
        "\n",
        "\n",
        "    def collate_fn(batch):\n",
        "        # batch of input mfcc coefficients\n",
        "        batch_data_encoder = [x[0:len(x)//2] for x,y in batch] # TODO\n",
        "        batch_data_decoder = [x[len(x)//2:] for x,y in batch] # TODO\n",
        "        # batch of output phonemes\n",
        "        batch_labels_encoder = [y[0:len(y)//2] for x,y in batch] # TODO\n",
        "        batch_labels_decoder = [y[len(y)//2:] for x,y in batch] \n",
        "\n",
        "        # HINT: CHECK OUT -> pad_sequence (imported above)\n",
        "        # Also be sure to check the input format (batch_first)\n",
        "        batch_data_encoder_pad = pad_sequence(batch_data_encoder, batch_first=True, padding_value=0) # TODO\n",
        "        batch_data_decoder_pad = pad_sequence(batch_data_decoder, batch_first=True, padding_value=0)\n",
        "\n",
        "        encoder_lengths_data = [len(x) for x in batch_data_encoder] # TODO\n",
        "        decoder_lengths_data = [len(x) for x in batch_data_decoder] \n",
        "\n",
        "        batch_labels_encoder_pad = pad_sequence(batch_labels_encoder, batch_first=True, padding_value=2) # TODO\n",
        "        batch_labels_decoder_pad = pad_sequence(batch_labels_decoder, batch_first=True, padding_value=2)\n",
        "        encoder_lengths_labels =  [len(x) for x in batch_labels_encoder] # TODO\n",
        "        decoder_lengths_labels =  [len(x) for x in batch_labels_decoder] # TODO\n",
        "\n",
        "\n",
        "        # You may apply some transformation, Time and Frequency masking, here in the collate function;\n",
        "        # Food for thought -> Why are we applying the transformation here and not in the __getitem__?\n",
        "        #                  -> Would we apply transformation on the validation set as well?\n",
        "        #                  -> Is the order of axes / dimensions as expected for the transform functions?\n",
        "        \n",
        "        # Return the following values: padded features, padded labels, actual length of features, actual length of the labels\n",
        "        return batch_data_encoder_pad,batch_data_decoder_pad, batch_labels_encoder_pad,batch_labels_decoder_pad, torch.tensor(encoder_lengths_data), torch.tensor(decoder_lengths_data), torch.tensor(encoder_lengths_labels), torch.tensor(decoder_lengths_labels)"
      ],
      "metadata": {
        "id": "v3hHjz3MDKU0"
      },
      "execution_count": 34,
      "outputs": []
    },
    {
      "cell_type": "code",
      "source": [
        "class ExcerciseValidationDataset(torch.utils.data.Dataset):\n",
        "    def get_relevant_history(self, candidate, query,sequence_length):\n",
        "      candidate = torch.stack(candidate, dim = 0)\n",
        "      score = torch.zeros(candidate.shape[0])\n",
        "      for tok in query:\n",
        "        score += torch.sum((candidate == tok).type(torch.int), dim = 1)\n",
        "\n",
        "      ind = torch.sort(torch.argsort(score)[-sequence_length:])[0]\n",
        "      history = []\n",
        "      \n",
        "      for idx in ind:\n",
        "        history.append(candidate[idx, :])\n",
        "\n",
        "      del candidate, score\n",
        "      return history, ind\n",
        "\n",
        "    def __init__(self, data, labels, sequence_size=128): \n",
        "        '''\n",
        "        Initializes the dataset.\n",
        "\n",
        "        INPUTS: What inputs do you need here?\n",
        "        '''\n",
        "\n",
        "        self.user_keyed_valid_data = {}\n",
        "        self.user_keyed_valid_label = {}\n",
        "        self.sequence_size = sequence_size\n",
        "\n",
        "        global user_idx\n",
        "        global user2Idx\n",
        "        global user_vocabulary\n",
        "\n",
        "        global token_idx\n",
        "        global word2Idx\n",
        "        global token_vocabulary\n",
        "\n",
        "        global pos_idx\n",
        "        global pos2Idx\n",
        "        global pos_vocabulary\n",
        "\n",
        "        global morph_idx\n",
        "        global morph2Idx\n",
        "        global morph_vocab\n",
        "\n",
        "        global dep_label_idx\n",
        "        global depLabel2Idx\n",
        "        global depLabelVocab\n",
        "\n",
        "        global word_label_idx\n",
        "        global wordLabel2Idx\n",
        "        global wordLabelVocab\n",
        "\n",
        "        \n",
        "        for i, instance in enumerate(data):\n",
        "          user = instance.user\n",
        "          if user not in self.user_keyed_valid_data:\n",
        "            self.user_keyed_valid_data[user] = []\n",
        "            self.user_keyed_valid_label[user] = []\n",
        "          \n",
        "          exercise = []\n",
        "          \n",
        "          \n",
        "          token = instance.token.lower()\n",
        "          pos_tag = instance.part_of_speech.lower()\n",
        "          morphology = instance.morphological_features\n",
        "          dependency_label = instance.dependency_label.lower()\n",
        "          time = instance.time\n",
        "          if time is None:\n",
        "            time = 0\n",
        "          days = instance.days\n",
        "          if days is None:\n",
        "            days = 0\n",
        "          days = float((days - min_days)/(max_days - min_days))\n",
        "          time = float((time - min_time)/(max_time - min_time))\n",
        "          if(days > 1):\n",
        "            print(\"days maxed\")\n",
        "            days = 1\n",
        "          if(time > 1):\n",
        "            print(\"time maxed\")\n",
        "            time = 1\n",
        "\n",
        "          label = labels[instance.instance_id]\n",
        "\n",
        "          assert user in user2Idx\n",
        "          exercise.append(user2Idx[user])\n",
        "\n",
        "          if token not in word2Idx:\n",
        "            token = \"unk\"\n",
        "\n",
        "          exercise.append(word2Idx[token])\n",
        "\n",
        "          if pos_tag not in pos2Idx:\n",
        "            pos_tag = \"unk\"\n",
        "\n",
        "          exercise.append(pos2Idx[pos_tag])\n",
        "\n",
        "          if dependency_label not in depLabel2Idx:\n",
        "            dependency_label = \"unk\"\n",
        "\n",
        "          exercise.append(depLabel2Idx[dependency_label])\n",
        "          exercise.append(float(days))\n",
        "          exercise.append(float(time))\n",
        "\n",
        "          all_combined = str(token) + str(pos_tag) + str(dependency_label) + str(label)\n",
        "          if all_combined not in wordLabel2Idx:\n",
        "            all_combined = \"unk\"\n",
        "          exercise.append(wordLabel2Idx[all_combined])\n",
        "\n",
        "          self.user_keyed_valid_data[user].append(torch.tensor(exercise, dtype = float))\n",
        "          self.user_keyed_valid_label[user].append(label)\n",
        "          \n",
        "\n",
        "        #At this point we have the exercises for each user.\n",
        "\n",
        "        self.timesteped_data = []\n",
        "        self.timesteped_labels = []\n",
        "\n",
        "        #print(self.user_keyed_data[user])\n",
        "\n",
        "        batch_bar = tqdm(total=len(self.user_keyed_valid_data), dynamic_ncols=True, leave=False, position=0, desc='Train') \n",
        "\n",
        "        for user in self.user_keyed_valid_data:\n",
        "          for i in range(0, len(self.user_keyed_valid_data[user]), sequence_size):\n",
        "            chunk1 = user_keyed_data[user][-sequence_size:] #History for the user\n",
        "            assert len(chunk1) > 0\n",
        "            chunk2 = self.user_keyed_valid_data[user][i:i + sequence_size]\n",
        "            assert len(chunk2) > 0\n",
        "            #history, ind = self.get_relevant_history(chunk1, chunk2, sequence_size)\n",
        "            #history.extend(chunk2)\n",
        "            #chunk2 = history\n",
        "            chunk1.extend(chunk2)\n",
        "\n",
        "\n",
        "            self.timesteped_data.append(torch.stack(chunk1,dim=0))\n",
        "            self.timesteped_labels.append(torch.cat(\n",
        "                (torch.FloatTensor(user_keyed_label[user][-sequence_size:]),\n",
        "                torch.FloatTensor(self.user_keyed_valid_label[user][i:i + sequence_size])), \n",
        "                dim = 0\n",
        "                ))\n",
        "          batch_bar.update()\n",
        "            \n",
        "        \n",
        "        self.length = len(self.timesteped_data)\n",
        "        \n",
        "    def __len__(self):\n",
        "        return self.length\n",
        "\n",
        "    def __getitem__(self, ind):\n",
        "        data = self.timesteped_data[ind] # TODO\n",
        "        labels = self.timesteped_labels[ind] # TODO\n",
        "        return data, labels\n",
        "\n",
        "\n",
        "    def collate_fn(batch):\n",
        "        # batch of input mfcc coefficients\n",
        "        \n",
        "        batch_data_encoder = [] # TODO\n",
        "        batch_data_decoder = [] # TODO\n",
        "\n",
        "        # batch of output phonemes\n",
        "        batch_labels_encoder = [] # TODO\n",
        "        batch_labels_decoder = [] \n",
        "\n",
        "        for x,y in batch:\n",
        "          user_id =  idx2User[int(x[0][0].item())]\n",
        "          sequence_size = 128\n",
        "          if(len(user_keyed_data[user_id]) < sequence_size):\n",
        "            sequence_size = len(user_keyed_data[user_id])\n",
        "\n",
        "          batch_data_encoder.append(x[0:sequence_size])\n",
        "          assert len(x[0:sequence_size]) > 0\n",
        "          batch_data_decoder.append(x[sequence_size:])\n",
        "          assert len(x[sequence_size:]) > 0\n",
        "          batch_labels_encoder.append(y[0:sequence_size])\n",
        "          assert len(y[0:sequence_size]) > 0\n",
        "          batch_labels_decoder.append(y[sequence_size:])\n",
        "          assert len(y[sequence_size:]) > 0\n",
        "\n",
        "        # HINT: CHECK OUT -> pad_sequence (imported above)\n",
        "        # Also be sure to check the input format (batch_first)\n",
        "        batch_data_encoder_pad = pad_sequence(batch_data_encoder, batch_first=True, padding_value=0) # TODO\n",
        "        batch_data_decoder_pad = pad_sequence(batch_data_decoder, batch_first=True, padding_value=0)\n",
        "\n",
        "        encoder_lengths_data = [len(x) for x in batch_data_encoder] # TODO\n",
        "        decoder_lengths_data = [len(x) for x in batch_data_decoder] \n",
        "\n",
        "        batch_labels_encoder_pad = pad_sequence(batch_labels_encoder, batch_first=True, padding_value=2) # TODO\n",
        "        batch_labels_decoder_pad = pad_sequence(batch_labels_decoder, batch_first=True, padding_value=2)\n",
        "        encoder_lengths_labels =  [len(x) for x in batch_labels_encoder] # TODO\n",
        "        decoder_lengths_labels =  [len(x) for x in batch_labels_decoder] # TODO\n",
        "\n",
        "\n",
        "        # You may apply some transformation, Time and Frequency masking, here in the collate function;\n",
        "        # Food for thought -> Why are we applying the transformation here and not in the __getitem__?\n",
        "        #                  -> Would we apply transformation on the validation set as well?\n",
        "        #                  -> Is the order of axes / dimensions as expected for the transform functions?\n",
        "        \n",
        "        # Return the following values: padded features, padded labels, actual length of features, actual length of the labels\n",
        "        return batch_data_encoder_pad,batch_data_decoder_pad, batch_labels_encoder_pad,batch_labels_decoder_pad, torch.tensor(encoder_lengths_data), torch.tensor(decoder_lengths_data), torch.tensor(encoder_lengths_labels), torch.tensor(decoder_lengths_labels)"
      ],
      "metadata": {
        "id": "C92ufEottsHA"
      },
      "execution_count": 40,
      "outputs": []
    },
    {
      "cell_type": "code",
      "source": [
        "from tqdm import tqdm\n"
      ],
      "metadata": {
        "id": "zTZLZSSfSgY8"
      },
      "execution_count": 41,
      "outputs": []
    },
    {
      "cell_type": "code",
      "source": [
        "train_data = ExcerciseDataset(training_data, training_labels, 256) #TODO"
      ],
      "metadata": {
        "id": "2vqFjFilZSQS",
        "colab": {
          "base_uri": "https://localhost:8080/"
        },
        "outputId": "dbeda50e-4de5-483d-ac12-0091e3cfe8e9"
      },
      "execution_count": 37,
      "outputs": [
        {
          "output_type": "stream",
          "name": "stderr",
          "text": []
        }
      ]
    },
    {
      "cell_type": "code",
      "source": [
        "train_loader = torch.utils.data.DataLoader(\n",
        "    dataset     = train_data, \n",
        "    num_workers = 8,\n",
        "    batch_size  = 64, \n",
        "    pin_memory  = True,\n",
        "    shuffle     = True,\n",
        "    collate_fn = ExcerciseDataset.collate_fn\n",
        ") #TODO"
      ],
      "metadata": {
        "id": "NxMX4ttnZQbo"
      },
      "execution_count": 107,
      "outputs": []
    },
    {
      "cell_type": "code",
      "source": [
        "val_dataset = ExcerciseValidationDataset(valid_data, valid_labels, 128) #TODO"
      ],
      "metadata": {
        "id": "YBA-bYamzxj0",
        "colab": {
          "base_uri": "https://localhost:8080/"
        },
        "outputId": "991ca10c-42f7-4a40-d8a4-eb230e4c40c7"
      },
      "execution_count": 42,
      "outputs": [
        {
          "output_type": "stream",
          "name": "stdout",
          "text": [
            "days maxed\n",
            "days maxed\n",
            "days maxed\n",
            "days maxed\n",
            "days maxed\n",
            "days maxed\n",
            "days maxed\n",
            "days maxed\n",
            "days maxed\n",
            "days maxed\n",
            "days maxed\n",
            "days maxed\n",
            "days maxed\n",
            "days maxed\n",
            "days maxed\n",
            "days maxed\n",
            "days maxed\n",
            "days maxed\n",
            "days maxed\n",
            "days maxed\n",
            "days maxed\n",
            "days maxed\n",
            "days maxed\n",
            "days maxed\n",
            "days maxed\n",
            "days maxed\n",
            "days maxed\n",
            "days maxed\n",
            "days maxed\n",
            "days maxed\n",
            "days maxed\n",
            "days maxed\n",
            "days maxed\n",
            "days maxed\n",
            "days maxed\n",
            "days maxed\n",
            "days maxed\n",
            "days maxed\n",
            "days maxed\n",
            "days maxed\n",
            "days maxed\n",
            "days maxed\n",
            "days maxed\n",
            "days maxed\n",
            "days maxed\n",
            "days maxed\n",
            "days maxed\n",
            "days maxed\n",
            "days maxed\n",
            "days maxed\n",
            "days maxed\n",
            "days maxed\n",
            "days maxed\n",
            "days maxed\n",
            "days maxed\n",
            "days maxed\n",
            "days maxed\n",
            "days maxed\n",
            "days maxed\n",
            "days maxed\n",
            "days maxed\n",
            "days maxed\n",
            "days maxed\n",
            "days maxed\n",
            "days maxed\n",
            "days maxed\n",
            "days maxed\n",
            "days maxed\n",
            "days maxed\n",
            "days maxed\n",
            "days maxed\n",
            "days maxed\n",
            "days maxed\n",
            "days maxed\n",
            "days maxed\n",
            "days maxed\n",
            "days maxed\n",
            "days maxed\n",
            "days maxed\n",
            "days maxed\n",
            "days maxed\n",
            "days maxed\n",
            "days maxed\n",
            "days maxed\n",
            "days maxed\n",
            "days maxed\n",
            "days maxed\n",
            "days maxed\n",
            "days maxed\n",
            "days maxed\n",
            "days maxed\n",
            "days maxed\n",
            "days maxed\n",
            "days maxed\n",
            "days maxed\n",
            "days maxed\n",
            "days maxed\n",
            "days maxed\n",
            "days maxed\n",
            "days maxed\n",
            "days maxed\n",
            "days maxed\n",
            "days maxed\n",
            "days maxed\n",
            "days maxed\n",
            "days maxed\n",
            "days maxed\n",
            "days maxed\n",
            "days maxed\n",
            "days maxed\n",
            "days maxed\n",
            "days maxed\n",
            "days maxed\n",
            "days maxed\n",
            "days maxed\n",
            "days maxed\n",
            "days maxed\n",
            "days maxed\n",
            "days maxed\n",
            "days maxed\n",
            "days maxed\n",
            "days maxed\n",
            "days maxed\n",
            "days maxed\n",
            "days maxed\n",
            "days maxed\n",
            "days maxed\n",
            "days maxed\n",
            "days maxed\n",
            "days maxed\n",
            "days maxed\n",
            "days maxed\n",
            "days maxed\n",
            "days maxed\n",
            "days maxed\n",
            "days maxed\n",
            "days maxed\n",
            "days maxed\n",
            "days maxed\n",
            "days maxed\n",
            "days maxed\n",
            "days maxed\n",
            "days maxed\n",
            "days maxed\n",
            "days maxed\n",
            "days maxed\n",
            "days maxed\n",
            "days maxed\n",
            "days maxed\n",
            "days maxed\n",
            "days maxed\n",
            "days maxed\n",
            "days maxed\n",
            "days maxed\n",
            "days maxed\n",
            "days maxed\n",
            "days maxed\n",
            "days maxed\n",
            "days maxed\n",
            "days maxed\n",
            "days maxed\n",
            "days maxed\n",
            "days maxed\n",
            "days maxed\n",
            "days maxed\n",
            "days maxed\n",
            "days maxed\n",
            "days maxed\n",
            "days maxed\n",
            "days maxed\n",
            "days maxed\n",
            "days maxed\n",
            "days maxed\n",
            "days maxed\n",
            "days maxed\n",
            "days maxed\n",
            "days maxed\n",
            "days maxed\n",
            "days maxed\n",
            "days maxed\n",
            "days maxed\n",
            "days maxed\n",
            "days maxed\n",
            "days maxed\n",
            "days maxed\n",
            "days maxed\n",
            "days maxed\n",
            "days maxed\n",
            "days maxed\n",
            "days maxed\n",
            "days maxed\n",
            "days maxed\n",
            "days maxed\n",
            "days maxed\n",
            "days maxed\n",
            "days maxed\n",
            "days maxed\n",
            "days maxed\n",
            "days maxed\n",
            "days maxed\n",
            "days maxed\n",
            "days maxed\n",
            "days maxed\n",
            "days maxed\n",
            "days maxed\n",
            "days maxed\n",
            "days maxed\n",
            "days maxed\n",
            "days maxed\n",
            "days maxed\n",
            "days maxed\n",
            "days maxed\n",
            "days maxed\n",
            "days maxed\n",
            "days maxed\n",
            "days maxed\n",
            "days maxed\n",
            "days maxed\n",
            "days maxed\n",
            "days maxed\n",
            "days maxed\n",
            "days maxed\n",
            "days maxed\n",
            "days maxed\n",
            "days maxed\n",
            "days maxed\n",
            "days maxed\n",
            "days maxed\n",
            "days maxed\n",
            "days maxed\n",
            "days maxed\n",
            "days maxed\n",
            "days maxed\n",
            "days maxed\n",
            "days maxed\n",
            "days maxed\n",
            "days maxed\n",
            "days maxed\n",
            "days maxed\n",
            "days maxed\n",
            "days maxed\n",
            "days maxed\n",
            "days maxed\n",
            "days maxed\n",
            "days maxed\n",
            "days maxed\n",
            "days maxed\n",
            "days maxed\n",
            "days maxed\n",
            "days maxed\n",
            "days maxed\n",
            "days maxed\n",
            "days maxed\n",
            "days maxed\n",
            "days maxed\n",
            "days maxed\n",
            "days maxed\n",
            "days maxed\n",
            "days maxed\n",
            "days maxed\n",
            "days maxed\n",
            "days maxed\n",
            "days maxed\n",
            "days maxed\n",
            "days maxed\n",
            "days maxed\n",
            "days maxed\n",
            "days maxed\n",
            "days maxed\n",
            "days maxed\n",
            "days maxed\n",
            "days maxed\n",
            "days maxed\n",
            "days maxed\n",
            "days maxed\n",
            "days maxed\n",
            "days maxed\n",
            "days maxed\n",
            "days maxed\n",
            "days maxed\n",
            "days maxed\n",
            "days maxed\n",
            "days maxed\n",
            "days maxed\n",
            "days maxed\n",
            "days maxed\n",
            "days maxed\n",
            "days maxed\n",
            "days maxed\n",
            "days maxed\n",
            "days maxed\n",
            "days maxed\n",
            "days maxed\n",
            "days maxed\n",
            "days maxed\n",
            "days maxed\n",
            "days maxed\n",
            "days maxed\n",
            "days maxed\n",
            "days maxed\n",
            "days maxed\n",
            "days maxed\n",
            "days maxed\n",
            "days maxed\n",
            "days maxed\n",
            "days maxed\n",
            "days maxed\n",
            "days maxed\n",
            "days maxed\n",
            "days maxed\n",
            "days maxed\n",
            "days maxed\n",
            "days maxed\n",
            "days maxed\n",
            "days maxed\n",
            "days maxed\n",
            "days maxed\n",
            "days maxed\n",
            "days maxed\n",
            "days maxed\n",
            "days maxed\n",
            "days maxed\n",
            "days maxed\n",
            "days maxed\n",
            "days maxed\n",
            "days maxed\n",
            "days maxed\n",
            "days maxed\n",
            "days maxed\n",
            "days maxed\n",
            "days maxed\n",
            "days maxed\n",
            "days maxed\n",
            "days maxed\n",
            "days maxed\n",
            "days maxed\n",
            "days maxed\n",
            "days maxed\n",
            "days maxed\n",
            "days maxed\n",
            "days maxed\n",
            "days maxed\n",
            "days maxed\n",
            "days maxed\n",
            "days maxed\n",
            "days maxed\n",
            "days maxed\n",
            "days maxed\n",
            "days maxed\n",
            "days maxed\n",
            "days maxed\n",
            "days maxed\n",
            "days maxed\n",
            "days maxed\n",
            "days maxed\n",
            "days maxed\n",
            "days maxed\n",
            "days maxed\n",
            "days maxed\n",
            "days maxed\n",
            "days maxed\n",
            "days maxed\n",
            "days maxed\n",
            "days maxed\n",
            "days maxed\n",
            "days maxed\n",
            "days maxed\n",
            "days maxed\n",
            "days maxed\n",
            "days maxed\n",
            "days maxed\n",
            "days maxed\n",
            "days maxed\n",
            "days maxed\n",
            "days maxed\n",
            "days maxed\n",
            "days maxed\n",
            "days maxed\n",
            "days maxed\n",
            "days maxed\n",
            "days maxed\n",
            "days maxed\n",
            "days maxed\n",
            "days maxed\n",
            "days maxed\n",
            "days maxed\n",
            "days maxed\n",
            "days maxed\n",
            "days maxed\n",
            "days maxed\n",
            "days maxed\n",
            "days maxed\n",
            "days maxed\n",
            "days maxed\n",
            "days maxed\n",
            "days maxed\n",
            "days maxed\n",
            "days maxed\n",
            "days maxed\n",
            "days maxed\n",
            "days maxed\n",
            "days maxed\n",
            "days maxed\n",
            "days maxed\n",
            "days maxed\n",
            "days maxed\n",
            "days maxed\n",
            "days maxed\n",
            "days maxed\n",
            "days maxed\n",
            "days maxed\n",
            "days maxed\n",
            "days maxed\n",
            "days maxed\n",
            "days maxed\n",
            "days maxed\n",
            "days maxed\n",
            "days maxed\n",
            "days maxed\n",
            "days maxed\n",
            "days maxed\n",
            "days maxed\n",
            "days maxed\n",
            "days maxed\n",
            "days maxed\n",
            "days maxed\n",
            "days maxed\n",
            "days maxed\n",
            "days maxed\n",
            "days maxed\n",
            "days maxed\n",
            "days maxed\n",
            "days maxed\n",
            "days maxed\n",
            "days maxed\n",
            "days maxed\n",
            "days maxed\n",
            "days maxed\n",
            "days maxed\n",
            "days maxed\n",
            "days maxed\n",
            "days maxed\n",
            "days maxed\n",
            "days maxed\n",
            "days maxed\n",
            "days maxed\n",
            "days maxed\n",
            "days maxed\n",
            "days maxed\n",
            "days maxed\n"
          ]
        },
        {
          "output_type": "stream",
          "name": "stderr",
          "text": []
        }
      ]
    },
    {
      "cell_type": "code",
      "source": [
        "val_loader = torch.utils.data.DataLoader(\n",
        "    dataset     = val_dataset, \n",
        "    num_workers = 8,\n",
        "    batch_size  = 64, \n",
        "    pin_memory  = True,\n",
        "    shuffle     = False,\n",
        "    collate_fn = ExcerciseValidationDataset.collate_fn\n",
        ") #TODO"
      ],
      "metadata": {
        "id": "T8XCncrfCWx1"
      },
      "execution_count": 43,
      "outputs": []
    },
    {
      "cell_type": "code",
      "source": [
        "# sanity check\n",
        "i = 0;\n",
        "for data in train_loader:\n",
        "    x_encoder,x_decoder, y_encoder,y_decoder, lx_encoder,lx_decoder, ly_encoder, ly_decoder = data\n",
        "    print(x_encoder.shape,x_decoder.shape, y_encoder.shape,y_decoder.shape, lx_encoder.shape, lx_decoder.shape,ly_encoder.shape, ly_decoder.shape)\n",
        "    print(y_decoder[1])\n",
        "    tokens = x_decoder[0, :, 1]\n",
        "    string_tok = []\n",
        "    for token in tokens:\n",
        "      string_tok.append(token_vocabulary[int(token)])\n",
        "    print(\" \".join(string_tok))\n",
        "    tokens = x_encoder[0, :, 1]\n",
        "    string_tok = []\n",
        "    for token in tokens:\n",
        "      string_tok.append(token_vocabulary[int(token)])\n",
        "    print(\" \".join(string_tok))\n",
        "    i += 1\n",
        "    if(i==2):\n",
        "      break "
      ],
      "metadata": {
        "id": "uk8Ef2mRT8Hh",
        "colab": {
          "base_uri": "https://localhost:8080/"
        },
        "outputId": "5d6fd918-4ceb-46d1-a0c1-3621d3b8c27b"
      },
      "execution_count": 44,
      "outputs": [
        {
          "output_type": "stream",
          "name": "stdout",
          "text": [
            "torch.Size([32, 128, 7]) torch.Size([32, 128, 7]) torch.Size([32, 128]) torch.Size([32, 128]) torch.Size([32]) torch.Size([32]) torch.Size([32]) torch.Size([32])\n",
            "tensor([0., 0., 0., 0., 0., 0., 0., 0., 0., 0., 0., 0., 0., 0., 0., 0., 0., 0.,\n",
            "        0., 0., 0., 0., 0., 0., 0., 0., 0., 0., 0., 0., 0., 0., 0., 0., 0., 0.,\n",
            "        0., 0., 0., 0., 0., 0., 0., 0., 0., 0., 0., 0., 0., 0., 0., 0., 0., 0.,\n",
            "        0., 1., 1., 0., 0., 0., 0., 0., 0., 0., 0., 0., 0., 0., 0., 0., 0., 0.,\n",
            "        0., 0., 0., 0., 0., 1., 0., 0., 0., 1., 0., 0., 0., 0., 0., 0., 0., 0.,\n",
            "        0., 0., 0., 1., 0., 0., 0., 0., 0., 0., 0., 0., 0., 0., 0., 0., 0., 0.,\n",
            "        0., 0., 0., 0., 2., 2., 2., 2., 2., 2., 2., 2., 2., 2., 2., 2., 2., 2.,\n",
            "        2., 2.])\n",
            "a language he will have sent a letter i will have returned we will have chosen this house she will have returned i will have died my mother will have chosen a different road who is the agent here is my credit card they hate meetings my wife has received a promotion if she could run he would not eat fish i should go to sleep i must go out she would say yes if i could eat fish may i ask you a favor i am going to the bus stop the newspaper says there was an attack in that city that would have changed the game i would have had money she would have been there i would have had some education i would have considered\n",
            "they are going to recover they are going to receive my letter i am going to reduce it i am going to sell my house are you going to swim today where are you going to sleep she is going to think that i do not love her i am going to start it my brother is going to swim today we are going to win they are going to wait for me she is not going to understand it i am going to want more food they are not going to understand you they are not going to win you will have created a baby i will have found the keys he will have taken our bag i will have found the restaurant we will have created\n",
            "torch.Size([32, 128, 7]) torch.Size([32, 128, 7]) torch.Size([32, 128]) torch.Size([32, 128]) torch.Size([32]) torch.Size([32]) torch.Size([32]) torch.Size([32])\n",
            "tensor([0., 0., 0., 0., 0., 0., 0., 0., 0., 1., 0., 0., 0., 0., 1., 0., 0., 0.,\n",
            "        0., 0., 0., 0., 0., 0., 0., 0., 0., 0., 0., 0., 0., 0., 0., 0., 0., 0.,\n",
            "        0., 0., 0., 0., 0., 0., 0., 0., 0., 0., 0., 0., 0., 0., 0., 0., 0., 0.,\n",
            "        0., 1., 0., 0., 0., 1., 0., 0., 0., 0., 0., 0., 0., 0., 0., 0., 0., 0.,\n",
            "        0., 0., 0., 0., 0., 0., 0., 0., 0., 1., 0., 0., 0., 0., 0., 0., 0., 0.,\n",
            "        0., 0., 0., 0., 0., 0., 0., 0., 0., 0., 0., 0., 0., 0., 0., 0., 1., 0.,\n",
            "        0., 0., 0., 0., 0., 0., 0., 0., 0., 0., 0., 0., 0., 0., 1., 0., 0., 0.,\n",
            "        0., 0.])\n",
            "are not popular she is professional yes it is necessary she is independent she is independent the shoes are necessary it is necessary they are not independent he is not normal i am not perfect you are positive hello beautiful i am not perfect it is traditional it is not serious the moment is historical he is wrong i am not religious it is not expensive it is impossible positive or negative she is pretty negative what is impossible what is impossible she is sad are you afraid the girl is sad unk unk unk unk unk unk unk unk unk unk unk unk unk unk unk unk unk unk unk unk unk unk unk unk unk unk unk unk unk unk unk unk unk unk unk unk\n",
            "love my career the work the author who is my lawyer where is my secretary the writer the judges she is not tired it is the same you are bilingual in general the same food she is very tired i have a personal computer it is not personal the water is dirty they are different we are human the shirt is clean the colors are different he is my future husband she is professional they are very popular the living room you are popular we are professional they are professional we unk unk unk unk unk unk unk unk unk unk unk unk unk unk unk unk unk unk unk unk unk unk unk unk unk unk unk unk unk unk unk unk unk unk unk unk unk\n"
          ]
        }
      ]
    },
    {
      "cell_type": "code",
      "source": [
        "del training_data\n",
        "del training_labels\n",
        "gc.collect()"
      ],
      "metadata": {
        "id": "SCeeJMFKVELr"
      },
      "execution_count": null,
      "outputs": []
    },
    {
      "cell_type": "code",
      "source": [
        "gc.collect()"
      ],
      "metadata": {
        "colab": {
          "base_uri": "https://localhost:8080/"
        },
        "id": "V5cYAuchbUH8",
        "outputId": "13d7fdd3-0053-481f-e9c7-f1f105ebcf27"
      },
      "execution_count": null,
      "outputs": [
        {
          "output_type": "execute_result",
          "data": {
            "text/plain": [
              "0"
            ]
          },
          "metadata": {},
          "execution_count": 25
        }
      ]
    },
    {
      "cell_type": "markdown",
      "source": [
        "# Encoder"
      ],
      "metadata": {
        "id": "0f6KdPmUa3cW"
      }
    },
    {
      "cell_type": "code",
      "source": [
        "#Prepare GloVe for encoder\n",
        "matrix_len = len(token_vocabulary)\n",
        "weights_matrix = np.zeros((matrix_len, 50))\n",
        "words_found = 0\n",
        "\n",
        "for i, word in enumerate(token_vocabulary):\n",
        "    try: \n",
        "        weights_matrix[i] = word2vec[word]\n",
        "        words_found += 1\n",
        "    except KeyError:\n",
        "      if(i == 0):\n",
        "        print(\"here\")\n",
        "        weights_matrix[i] = np.zeros((50, ))\n",
        "      else:\n",
        "        weights_matrix[i] = np.random.normal(scale=0.6, size=(50, ))"
      ],
      "metadata": {
        "id": "auNs8M_OreWj"
      },
      "execution_count": 45,
      "outputs": []
    },
    {
      "cell_type": "code",
      "source": [
        "class LockedDropout(torch.nn.Module):\n",
        "    def __init__(self, prob):\n",
        "        super().__init__()\n",
        "        self.prob = prob\n",
        "\n",
        "    def forward(self, x):\n",
        "        if not self.training or not self.prob:\n",
        "            return x\n",
        "        x = x.clone()\n",
        "        mask = x.new_empty(1, x.size(1), x.size(2), requires_grad=False).bernoulli_(1 - self.prob)\n",
        "        mask = mask.div_(1 - self.prob)\n",
        "        mask = mask.expand_as(x)\n",
        "        return x * mask"
      ],
      "metadata": {
        "id": "nnDJzwjiIeeq"
      },
      "execution_count": 46,
      "outputs": []
    },
    {
      "cell_type": "code",
      "source": [
        "class PermuteBatchSequenceLDBlock(torch.nn.Module):\n",
        "    def __init__(self, locked_dropout):\n",
        "      super().__init__()\n",
        "      self.locked_dropout = locked_dropout\n",
        "\n",
        "    def forward(self, x):\n",
        "      x, lengths = pad_packed_sequence(x, batch_first = True)\n",
        "      x = x.transpose(0, 1)\n",
        "      if(self.locked_dropout is not None):\n",
        "        x = self.locked_dropout(x)\n",
        "      x = x.transpose(0, 1)\n",
        "      x = pack_padded_sequence(x, lengths, batch_first = True, enforce_sorted=False)\n",
        "      return x"
      ],
      "metadata": {
        "id": "3rBdKx1BIgbJ"
      },
      "execution_count": 47,
      "outputs": []
    },
    {
      "cell_type": "code",
      "source": [
        "class PermuteBlock(torch.nn.Module):\n",
        "    def forward(self, x):\n",
        "        return x.transpose(1, 2)"
      ],
      "metadata": {
        "id": "JqgXQpdthdgw"
      },
      "execution_count": 48,
      "outputs": []
    },
    {
      "cell_type": "code",
      "source": [
        "class pBLSTM(torch.nn.Module):\n",
        "\n",
        "    '''\n",
        "    Pyramidal BiLSTM\n",
        "    Read the write up/paper and understand the concepts and then write your implementation here.\n",
        "\n",
        "    At each step,\n",
        "    1. Pad your input if it is packed (Unpack it)\n",
        "    2. Reduce the input length dimension by concatenating feature dimension\n",
        "        (Tip: Write down the shapes and understand)\n",
        "        (i) How should  you deal with odd/even length input? \n",
        "        (ii) How should you deal with input length array (x_lens) after truncating the input?\n",
        "    3. Pack your input\n",
        "    4. Pass it into LSTM layer\n",
        "\n",
        "    To make our implementation modular, we pass 1 layer at a time.\n",
        "    '''\n",
        "    \n",
        "    def __init__(self, input_size, hidden_size):\n",
        "        super(pBLSTM, self).__init__()\n",
        "        self.blstm = torch.nn.LSTM(input_size = input_size, hidden_size = hidden_size, num_layers = 1, bidirectional = True, batch_first = True, dropout = 0.3) \n",
        "\n",
        "    def forward(self, x_packed): # x_packed is a PackedSequence\n",
        "\n",
        "        # TODO: Pad Packed Sequence\n",
        "        x_pad_packed, lengths = pad_packed_sequence(x_packed, batch_first = True)\n",
        "        # Call self.trunc_reshape() which downsamples the time steps of x and increases the feature dimensions as mentioned above\n",
        "        # self.trunc_reshape will return 2 outputs. What are they? Think about what quantites are changing.\n",
        "        x_trunc, x_len = self.trunc_reshape(x_pad_packed, lengths)\n",
        "        # TODO: Pack Padded Sequence. What output(s) would you get?\n",
        "        x_packed = pack_padded_sequence(x_trunc, x_len, batch_first = True, enforce_sorted=False)\n",
        "        # TODO: Pass the sequence through bLSTM\n",
        "        out1, (out2,out3) = self.blstm(x_packed)\n",
        "\n",
        "        # What do you return?\n",
        "        return out1\n",
        "\n",
        "    def trunc_reshape(self, x, x_lens): \n",
        "        # TODO: If you have odd number of timesteps, how can you handle it? (Hint: You can exclude them)\n",
        "        if(x.shape[1]%2 != 0):\n",
        "          x = x[:,:-1,:]\n",
        "        \n",
        "        # TODO: Reshape x. When reshaping x, you have to reduce number of timesteps by a downsampling factor while increasing number of features by the same factor\n",
        "        x_reshaped = x.reshape(x.shape[0], x.shape[1]//2, 2*x.shape[2])\n",
        "        #x_reshaped = torch.concat(x_reshaped, 2)\n",
        "        # TODO: Reduce lengths by the same downsampling factor\n",
        "        x_lens = x_lens//2\n",
        "        #print(x_reshaped.shape)\n",
        "        return x_reshaped, x_lens"
      ],
      "metadata": {
        "id": "tYBTlviIhbFD"
      },
      "execution_count": 49,
      "outputs": []
    },
    {
      "cell_type": "code",
      "source": [
        "class Encoder(torch.nn.Module):\n",
        "    '''\n",
        "    The Encoder takes utterances as inputs and returns latent feature representations\n",
        "    '''\n",
        "    def __init__(self, token_embedding_weight_matrix, encoder_hidden_size):\n",
        "        super(Encoder, self).__init__()\n",
        "\n",
        "        self.user_embedding = torch.nn.Embedding(len(user_vocabulary), 10)\n",
        "        self.token_embedding = torch.nn.Embedding(len(token_vocabulary), 50)\n",
        "        self.token_embedding.weight = torch.nn.Parameter(torch.from_numpy(token_embedding_weight_matrix))\n",
        "        self.pos_embedding = torch.nn.Embedding(len(pos_vocabulary), 10)\n",
        "        self.dependency_embedding = torch.nn.Embedding(len(depLabelVocab), 10)\n",
        "        #self.label_embedding = torch.nn.Embedding(3, 10)\n",
        "        self.word_label_embedding = torch.nn.Embedding(len(wordLabelVocab), 15)\n",
        "\n",
        "        self.locked_dropout = LockedDropout(0.5)\n",
        "        self.lstm1 = torch.nn.LSTM(input_size = 98, hidden_size = encoder_hidden_size, num_layers = 1, bidirectional = True, batch_first = True, dropout = 0.3)\n",
        "        self.lstm2 = torch.nn.LSTM(input_size = 2*encoder_hidden_size, hidden_size = encoder_hidden_size, num_layers = 4, bidirectional = True, batch_first = True, dropout = 0.5)\n",
        "        self.pBLSTMs = torch.nn.Sequential( \n",
        "            PermuteBatchSequenceLDBlock(self.locked_dropout),\n",
        "            pBLSTM(4*encoder_hidden_size, encoder_hidden_size),\n",
        "            PermuteBatchSequenceLDBlock(self.locked_dropout),\n",
        "            pBLSTM(4*encoder_hidden_size, encoder_hidden_size),\n",
        "            PermuteBatchSequenceLDBlock(self.locked_dropout),\n",
        "            pBLSTM(4*encoder_hidden_size, encoder_hidden_size)\n",
        "        )\n",
        "    def forward(self, x, x_lens, labels):\n",
        "        # Where are x and x_lens coming from? The dataloader\n",
        "        #TODO: Call the embedding layer\n",
        "        user_embeddings = self.user_embedding(x[:,:,0].clone().to(torch.int64))\n",
        "        token_embeddings = self.token_embedding(x[:,:,1].clone().to(torch.int64))\n",
        "        pos_embeddings = self.pos_embedding(x[:,:,2].clone().to(torch.int64))\n",
        "        dependency_embeddings = self.dependency_embedding(x[:,:,3].clone().to(torch.int64))\n",
        "        #label_embeddings = self.label_embedding(labels.clone().to(torch.int64))\n",
        "        word_labels_embeddings = self.word_label_embedding(x[:,:,6].clone().to(torch.int64))\n",
        "\n",
        "        concatenated_out = torch.cat((\n",
        "            user_embeddings.type(torch.float),\n",
        "            token_embeddings.type(torch.float),\n",
        "            pos_embeddings.type(torch.float),\n",
        "            dependency_embeddings.type(torch.float),\n",
        "            x[:,:,4].reshape(x[:,:,4].shape[0], x[:,:,4].shape[1], 1).type(torch.float),\n",
        "            x[:,:,5].reshape(x[:,:,5].shape[0], x[:,:,5].shape[1], 1).type(torch.float), \n",
        "            labels.reshape(labels.shape[0], labels.shape[1],1).type(torch.float),\n",
        "            word_labels_embeddings.type(torch.float)), dim=2)\n",
        "        \n",
        "        packed_out = pack_padded_sequence(concatenated_out, x_lens, batch_first = True, enforce_sorted=False)\n",
        "        \n",
        "        out = self.lstm1(packed_out)[0]\n",
        "        out1 = self.lstm2(out)[0]#residual\n",
        "\n",
        "        out_unpacked, out_unpacked_lens = pad_packed_sequence(out, batch_first = True)\n",
        "        out1_unpacked, out1_unpacked_lens = pad_packed_sequence(out1, batch_first = True)\n",
        "        out = out_unpacked + out1_unpacked\n",
        "        out = pack_padded_sequence(out, out_unpacked_lens, batch_first = True, enforce_sorted=False)\n",
        "        \n",
        "        out = self.pBLSTMs(out)\n",
        "        #out = self.pBLSTMs(out)\n",
        "        # TODO: Pad Packed Sequence\n",
        "        encoder_outputs, encoder_lens = pad_packed_sequence(out, batch_first = True)\n",
        "        \n",
        "        # Remember the number of output(s) each function returns\n",
        "\n",
        "        return encoder_outputs, encoder_lens"
      ],
      "metadata": {
        "id": "Eyg8grmfa4Nz"
      },
      "execution_count": 109,
      "outputs": []
    },
    {
      "cell_type": "code",
      "source": [
        "encoder = Encoder(weights_matrix, 16)"
      ],
      "metadata": {
        "id": "FCT3SO9zv5y8",
        "colab": {
          "base_uri": "https://localhost:8080/"
        },
        "outputId": "62989b4b-68a3-4af2-cd5f-82b2b667808c"
      },
      "execution_count": 69,
      "outputs": [
        {
          "output_type": "stream",
          "name": "stderr",
          "text": [
            "/usr/local/lib/python3.8/dist-packages/torch/nn/modules/rnn.py:67: UserWarning: dropout option adds dropout after all but last recurrent layer, so non-zero dropout expects num_layers greater than 1, but got dropout=0.3 and num_layers=1\n",
            "  warnings.warn(\"dropout option adds dropout after all but last \"\n"
          ]
        }
      ]
    },
    {
      "cell_type": "code",
      "source": [
        "for i, data in enumerate(train_loader):\n",
        "  x_encoder,x_decoder, y_encoder,y_decoder, lx_encoder,lx_decoder, ly_encoder, ly_decoder = data\n",
        "  print(type((x_encoder[:,:,3].reshape(x_encoder[:,:,3].shape[0], x_encoder[:,:,3].shape[1], 1)[0,0].item())))\n",
        "  #print(lx_encoder)\n",
        "  encoder_outputs, encoder_lens = encoder(x_encoder, lx_encoder, y_encoder)\n",
        "  print(encoder_outputs.shape)\n",
        "  break\n",
        "  # encoder_out_new = torch.zeros((encoder_outputs.shape[0], encoder_outputs.shape[2]))\n",
        "  # for batch_output_index in range(encoder_outputs.shape[0]):\n",
        "  #   encoder_out_new[batch_output_index] = torch.sum(encoder_outputs[batch_output_index,0:encoder_lens[batch_output_index]], dim = 0)\n",
        "  # print(encoder_out_new.shape)\n",
        "  #print(torch.sum(encoder_outputs[:,:encoder_lens], dim = 1).shape)"
      ],
      "metadata": {
        "id": "VcIDPxQswThA",
        "colab": {
          "base_uri": "https://localhost:8080/"
        },
        "outputId": "91f4c0be-a697-48a0-b020-c6db112ccf13"
      },
      "execution_count": 70,
      "outputs": [
        {
          "output_type": "stream",
          "name": "stdout",
          "text": [
            "<class 'float'>\n",
            "torch.Size([32, 16, 32])\n"
          ]
        }
      ]
    },
    {
      "cell_type": "markdown",
      "source": [
        "# Attention"
      ],
      "metadata": {
        "id": "rzw4pegNbxom"
      }
    },
    {
      "cell_type": "code",
      "source": [
        "import math\n",
        "\n",
        "class Attention(torch.nn.Module):\n",
        "  def __init__(self,listener_hidden_size,\n",
        "              speller_hidden_size,\n",
        "              projection_size):\n",
        "    super().__init__()\n",
        "    self.Wq = torch.nn.Linear(speller_hidden_size, projection_size, bias=False)\n",
        "    self.Wk = torch.nn.Linear(listener_hidden_size, projection_size, bias=False)\n",
        "    self.Wv = torch.nn.Linear(listener_hidden_size, projection_size, bias=False)\n",
        "    self.projection_size = projection_size\n",
        "    torch.nn.init.xavier_normal_(self.Wq.weight)\n",
        "    torch.nn.init.xavier_normal_(self.Wk.weight)\n",
        "    torch.nn.init.xavier_normal_(self.Wv.weight)\n",
        "  \n",
        "  def set_key_value(self, encoder_outputs):\n",
        "    self.key = self.Wk(encoder_outputs) #(batch_size, timesteps, projection_size)\n",
        "    self.value = self.Wv(encoder_outputs) #(batch_size, timesteps, projection_size)\n",
        "\n",
        "  def compute_context(self, decoder_context):\n",
        "    query = self.Wq(decoder_context) #(batch_size, projection_size)\n",
        "\n",
        "    raw_weights = torch.einsum('Bp,Btp->Bt', query, self.key) / float(math.sqrt(self.projection_size))\n",
        "\n",
        "    attention_weights = torch.nn.functional.softmax(raw_weights, dim = 1)\n",
        "\n",
        "    attention_context = torch.einsum('Bt,Btp->Bp', attention_weights, self.value)\n",
        "\n",
        "    return attention_context, attention_weights"
      ],
      "metadata": {
        "id": "3g7ZMm15b1oi"
      },
      "execution_count": 72,
      "outputs": []
    },
    {
      "cell_type": "markdown",
      "source": [
        "# Decoder"
      ],
      "metadata": {
        "id": "qfqfTmfuyX6q"
      }
    },
    {
      "cell_type": "code",
      "source": [
        "class Decoder(torch.nn.Module):\n",
        "\n",
        "    def __init__(self,attender: Attention,token_embedding_weight, decoder_hidden_size,projection_size, output_size = 1):\n",
        "        super().__init__()\n",
        "\n",
        "        self.user_embedding = torch.nn.Embedding(len(user_vocabulary), 10)\n",
        "        self.token_embedding = torch.nn.Embedding(len(token_vocabulary), 50)\n",
        "        self.token_embedding.weight = token_embedding_weight\n",
        "        self.pos_embedding = torch.nn.Embedding(len(pos_vocabulary), 10)\n",
        "        self.dependency_embedding = torch.nn.Embedding(len(depLabelVocab), 10)\n",
        "\n",
        "        self.attention = attender\n",
        "        self.projection_size = projection_size\n",
        "\n",
        "        self.lstm1 = torch.nn.LSTM(input_size = 82, hidden_size = decoder_hidden_size, num_layers = 5, bidirectional = True, batch_first = True, dropout = 0.3)\n",
        "        self.multi_head_attention1 = torch.nn.MultiheadAttention(2*decoder_hidden_size, 8, batch_first=True)\n",
        "        self.batchnorm1 = torch.nn.BatchNorm1d(2*decoder_hidden_size)\n",
        "        self.gelu = torch.nn.GELU()\n",
        "\n",
        "        self.mlp_size = 2*decoder_hidden_size + projection_size\n",
        "        self.mlp = torch.nn.Sequential(\n",
        "            torch.nn.BatchNorm1d(self.mlp_size), \n",
        "            torch.nn.GELU(),\n",
        "            torch.nn.Linear(self.mlp_size, self.mlp_size//8),\n",
        "            torch.nn.BatchNorm1d(self.mlp_size//8), \n",
        "            torch.nn.GELU(),\n",
        "            torch.nn.Dropout(0.5),\n",
        "            torch.nn.Linear(self.mlp_size//8, output_size),\n",
        "            #torch.nn.Sigmoid()\n",
        "        )\n",
        "        \n",
        "        #self.sigmoid = torch.nn.Sigmoid(dim=2)\n",
        "\n",
        "    def forward(self, x, x_lens, encoder_out):\n",
        "        #TODO call your MLP\n",
        "        #TODO Think what should be the final output of the decoder for the classification \n",
        "        user_embeddings = self.user_embedding(x[:,:,0].clone().to(torch.int64))\n",
        "        token_embeddings = self.token_embedding(x[:,:,1].clone().to(torch.int64))\n",
        "        pos_embeddings = self.pos_embedding(x[:,:,2].clone().to(torch.int64))\n",
        "        dependency_embeddings = self.dependency_embedding(x[:,:,3].clone().to(torch.int64))\n",
        "\n",
        "        concatenated_out = torch.cat((\n",
        "            user_embeddings.type(torch.float),\n",
        "            token_embeddings.type(torch.float),\n",
        "            pos_embeddings.type(torch.float),\n",
        "            dependency_embeddings.type(torch.float),\n",
        "            x[:,:,4].reshape(x[:,:,4].shape[0], x[:,:,4].shape[1], 1).type(torch.float),\n",
        "            x[:,:,5].reshape(x[:,:,5].shape[0], x[:,:,5].shape[1], 1).type(torch.float)), dim=2)\n",
        "\n",
        "        packed_out = pack_padded_sequence(concatenated_out, x_lens, batch_first = True, enforce_sorted=False)\n",
        "\n",
        "        out = self.lstm1(packed_out)[0]\n",
        "        decoder_output, decoder_lens = pad_packed_sequence(out, batch_first = True)\n",
        "\n",
        "        decoder_output = self.multi_head_attention1(decoder_output,decoder_output,decoder_output)[0] + decoder_output\n",
        "        decoder_output = self.gelu(self.batchnorm1(decoder_output.permute(0,2,1)).permute(0,2,1))\n",
        "\n",
        "        mlp_outputs = []\n",
        "        attn_wts = []\n",
        "\n",
        "        for t in range(decoder_output.shape[1]):\n",
        "          attention_context, attention_weights = self.attention.compute_context(decoder_output[:,t,:])\n",
        "          temp = self.mlp(torch.cat((decoder_output[:,t,:], attention_context), dim = 1))\n",
        "          mlp_outputs.append(temp)\n",
        "          attn_wts.append(attention_weights)\n",
        "\n",
        "        return torch.stack(mlp_outputs, dim = 1), torch.stack(attn_wts, dim = 1)"
      ],
      "metadata": {
        "id": "KZaLH8b2yaNd"
      },
      "execution_count": 110,
      "outputs": []
    },
    {
      "cell_type": "code",
      "source": [
        "encoder = Encoder(weights_matrix, 256)\n",
        "attention = Attention(512,512,128)\n",
        "decoder = Decoder(attention,encoder.token_embedding.weight, 512,128, 3)"
      ],
      "metadata": {
        "id": "nGEZtrWrb8DZ"
      },
      "execution_count": null,
      "outputs": []
    },
    {
      "cell_type": "code",
      "source": [
        "for i, data in enumerate(val_loader):\n",
        "  x_encoder,x_decoder,y_encoder,y_decoder,lx_encoder,lx_decoder, ly_encoder, ly_decoder = data\n",
        "  #print(x_encoder,x_decoder,y_encoder,y_decoder,lx_encoder,lx_decoder, ly_encoder, ly_decoder)\n",
        "  #print(encoder(x_encoder, lx_encoder, y_encoder)[0].shape)\n",
        "  encoder_out, encoder_lens = encoder(x_encoder, lx_encoder, y_encoder)\n",
        "  attention.set_key_value(encoder_out)\n",
        "  decoder_out  = decoder(x_decoder, lx_decoder)\n",
        "  print(decoder_out[0].shape)\n",
        "  print(decoder_out[1].shape)\n",
        "  break"
      ],
      "metadata": {
        "id": "bte7OsxDUR_8",
        "colab": {
          "base_uri": "https://localhost:8080/"
        },
        "outputId": "e90e9859-27ac-4cb4-98e5-f887019d8fbb"
      },
      "execution_count": null,
      "outputs": [
        {
          "output_type": "stream",
          "name": "stdout",
          "text": [
            "torch.Size([64, 128, 3])\n",
            "torch.Size([64, 128, 16])\n"
          ]
        }
      ]
    },
    {
      "cell_type": "markdown",
      "source": [
        "# Complete Model"
      ],
      "metadata": {
        "id": "_XyYTj7JWUab"
      }
    },
    {
      "cell_type": "code",
      "source": [
        "class KnowledgeModel(torch.nn.Module):\n",
        "\n",
        "    def __init__(self, encoder_hidden_size=256,decoder_hidden_size=512,projection_size = 128, output_size=1):\n",
        "        super().__init__()\n",
        "\n",
        "        #Prepare GloVe for encoder\n",
        "        matrix_len = len(token_vocabulary)\n",
        "        weights_matrix = np.zeros((matrix_len, 50))\n",
        "        words_found = 0\n",
        "\n",
        "        for i, word in enumerate(token_vocabulary):\n",
        "          try: \n",
        "              weights_matrix[i] = word2vec[word]\n",
        "              words_found += 1\n",
        "          except KeyError:\n",
        "            if(i == 0):\n",
        "              weights_matrix[i] = np.zeros((50, ))\n",
        "            else:\n",
        "              weights_matrix[i] = np.random.normal(scale=0.6, size=(50, ))\n",
        "\n",
        "        self.encoder        =  Encoder(weights_matrix, encoder_hidden_size) # TODO: Initialize Encoder\n",
        "        self.attention = Attention(2*encoder_hidden_size,2*decoder_hidden_size,projection_size)\n",
        "        self.decoder = Decoder(self.attention,self.encoder.token_embedding.weight, decoder_hidden_size,projection_size, output_size) # TODO: Initialize Decoder \n",
        "        self.multi_head_attention1 = torch.nn.MultiheadAttention(2*encoder_hidden_size, 8, batch_first=True)\n",
        "        self.batchnorm1 = torch.nn.BatchNorm1d(2*encoder_hidden_size)\n",
        "        self.multi_head_attention2 = torch.nn.MultiheadAttention(2*encoder_hidden_size, 8, batch_first=True)\n",
        "        self.batchnorm2 = torch.nn.BatchNorm1d(2*encoder_hidden_size)\n",
        "        self.gelu = torch.nn.GELU()\n",
        "\n",
        "    def forward(self, x_encoder,x_encoder_lengths, y_encoder_labels, x_decoder, x_decoder_lengths):\n",
        "        encoder_out, encoder_lens = self.encoder(x_encoder, x_encoder_lengths, y_encoder_labels)\n",
        "        encoder_out = self.multi_head_attention1(encoder_out, encoder_out, encoder_out)[0] + encoder_out\n",
        "        encoder_out = self.gelu(self.batchnorm1(encoder_out.permute(0,2,1)).permute(0,2,1))\n",
        "        encoder_out = self.multi_head_attention2(encoder_out, encoder_out, encoder_out)[0] + encoder_out\n",
        "        encoder_out = self.gelu(self.batchnorm2(encoder_out.permute(0,2,1)).permute(0,2,1))\n",
        "        \n",
        "        self.attention.set_key_value(encoder_out)\n",
        "\n",
        "        #encoder_out_new = torch.zeros((encoder_out.shape[0], encoder_out.shape[2])).to(device)\n",
        "        #for batch_idx in range(encoder_out.shape[0]):\n",
        "        #  encoder_out_new[batch_idx] = torch.max(encoder_out[batch_idx,0:encoder_lens[batch_idx]], dim = 0)[0]\n",
        "        decoder_out, attn_wts  = self.decoder(x_decoder,  x_decoder_lengths, encoder_out)\n",
        "\n",
        "        return decoder_out, attn_wts"
      ],
      "metadata": {
        "id": "TmFYQO04WVl6"
      },
      "execution_count": 111,
      "outputs": []
    },
    {
      "cell_type": "code",
      "source": [
        "model = KnowledgeModel(\n",
        "    encoder_hidden_size  = 128,\n",
        "    decoder_hidden_size = 128,\n",
        "    projection_size = 256,\n",
        "    output_size = 3\n",
        ").to(device)\n",
        "print(model)\n",
        "summary(model,x_encoder.to(device),lx_encoder,y_encoder.to(device), x_decoder.to(device),lx_decoder)"
      ],
      "metadata": {
        "colab": {
          "base_uri": "https://localhost:8080/",
          "height": 1000
        },
        "id": "Dg14_QLUrEyD",
        "outputId": "3c78a8ce-94b1-46ee-e48e-7ceb26d08784"
      },
      "execution_count": 112,
      "outputs": [
        {
          "output_type": "stream",
          "name": "stderr",
          "text": [
            "/usr/local/lib/python3.8/dist-packages/torch/nn/modules/rnn.py:67: UserWarning: dropout option adds dropout after all but last recurrent layer, so non-zero dropout expects num_layers greater than 1, but got dropout=0.3 and num_layers=1\n",
            "  warnings.warn(\"dropout option adds dropout after all but last \"\n"
          ]
        },
        {
          "output_type": "stream",
          "name": "stdout",
          "text": [
            "KnowledgeModel(\n",
            "  (encoder): Encoder(\n",
            "    (user_embedding): Embedding(2594, 10)\n",
            "    (token_embedding): Embedding(1968, 50)\n",
            "    (pos_embedding): Embedding(17, 10)\n",
            "    (dependency_embedding): Embedding(42, 10)\n",
            "    (word_label_embedding): Embedding(8131, 15)\n",
            "    (locked_dropout): LockedDropout()\n",
            "    (lstm1): LSTM(98, 128, batch_first=True, dropout=0.3, bidirectional=True)\n",
            "    (lstm2): LSTM(256, 128, num_layers=4, batch_first=True, dropout=0.5, bidirectional=True)\n",
            "    (pBLSTMs): Sequential(\n",
            "      (0): PermuteBatchSequenceLDBlock(\n",
            "        (locked_dropout): LockedDropout()\n",
            "      )\n",
            "      (1): pBLSTM(\n",
            "        (blstm): LSTM(512, 128, batch_first=True, dropout=0.3, bidirectional=True)\n",
            "      )\n",
            "      (2): PermuteBatchSequenceLDBlock(\n",
            "        (locked_dropout): LockedDropout()\n",
            "      )\n",
            "      (3): pBLSTM(\n",
            "        (blstm): LSTM(512, 128, batch_first=True, dropout=0.3, bidirectional=True)\n",
            "      )\n",
            "      (4): PermuteBatchSequenceLDBlock(\n",
            "        (locked_dropout): LockedDropout()\n",
            "      )\n",
            "      (5): pBLSTM(\n",
            "        (blstm): LSTM(512, 128, batch_first=True, dropout=0.3, bidirectional=True)\n",
            "      )\n",
            "    )\n",
            "  )\n",
            "  (attention): Attention(\n",
            "    (Wq): Linear(in_features=256, out_features=256, bias=False)\n",
            "    (Wk): Linear(in_features=256, out_features=256, bias=False)\n",
            "    (Wv): Linear(in_features=256, out_features=256, bias=False)\n",
            "  )\n",
            "  (decoder): Decoder(\n",
            "    (user_embedding): Embedding(2594, 10)\n",
            "    (token_embedding): Embedding(1968, 50)\n",
            "    (pos_embedding): Embedding(17, 10)\n",
            "    (dependency_embedding): Embedding(42, 10)\n",
            "    (attention): Attention(\n",
            "      (Wq): Linear(in_features=256, out_features=256, bias=False)\n",
            "      (Wk): Linear(in_features=256, out_features=256, bias=False)\n",
            "      (Wv): Linear(in_features=256, out_features=256, bias=False)\n",
            "    )\n",
            "    (lstm1): LSTM(82, 128, num_layers=5, batch_first=True, dropout=0.3, bidirectional=True)\n",
            "    (multi_head_attention1): MultiheadAttention(\n",
            "      (out_proj): NonDynamicallyQuantizableLinear(in_features=256, out_features=256, bias=True)\n",
            "    )\n",
            "    (batchnorm1): BatchNorm1d(256, eps=1e-05, momentum=0.1, affine=True, track_running_stats=True)\n",
            "    (gelu): GELU(approximate='none')\n",
            "    (mlp): Sequential(\n",
            "      (0): BatchNorm1d(512, eps=1e-05, momentum=0.1, affine=True, track_running_stats=True)\n",
            "      (1): GELU(approximate='none')\n",
            "      (2): Linear(in_features=512, out_features=64, bias=True)\n",
            "      (3): BatchNorm1d(64, eps=1e-05, momentum=0.1, affine=True, track_running_stats=True)\n",
            "      (4): GELU(approximate='none')\n",
            "      (5): Dropout(p=0.5, inplace=False)\n",
            "      (6): Linear(in_features=64, out_features=3, bias=True)\n",
            "    )\n",
            "  )\n",
            "  (multi_head_attention1): MultiheadAttention(\n",
            "    (out_proj): NonDynamicallyQuantizableLinear(in_features=256, out_features=256, bias=True)\n",
            "  )\n",
            "  (batchnorm1): BatchNorm1d(256, eps=1e-05, momentum=0.1, affine=True, track_running_stats=True)\n",
            "  (multi_head_attention2): MultiheadAttention(\n",
            "    (out_proj): NonDynamicallyQuantizableLinear(in_features=256, out_features=256, bias=True)\n",
            "  )\n",
            "  (batchnorm2): BatchNorm1d(256, eps=1e-05, momentum=0.1, affine=True, track_running_stats=True)\n",
            "  (gelu): GELU(approximate='none')\n",
            ")\n"
          ]
        },
        {
          "output_type": "stream",
          "name": "stderr",
          "text": [
            "/usr/local/lib/python3.8/dist-packages/torchsummaryX/torchsummaryX.py:101: FutureWarning: Dropping of nuisance columns in DataFrame reductions (with 'numeric_only=None') is deprecated; in a future version this will raise TypeError.  Select only valid columns before calling the reduction.\n",
            "  df_sum = df.sum()\n"
          ]
        },
        {
          "output_type": "stream",
          "name": "stdout",
          "text": [
            "====================================================================================================\n",
            "                                         Kernel Shape   Output Shape  \\\n",
            "Layer                                                                  \n",
            "0_encoder.Embedding_user_embedding         [10, 2594]  [32, 128, 10]   \n",
            "1_encoder.Embedding_token_embedding        [50, 1968]  [32, 128, 50]   \n",
            "2_encoder.Embedding_pos_embedding            [10, 17]  [32, 128, 10]   \n",
            "3_encoder.Embedding_dependency_embedding     [10, 42]  [32, 128, 10]   \n",
            "4_encoder.Embedding_word_label_embedding   [15, 8131]  [32, 128, 15]   \n",
            "...                                               ...            ...   \n",
            "1184_decoder.mlp.Linear_2                   [512, 64]       [32, 64]   \n",
            "1185_decoder.mlp.BatchNorm1d_3                   [64]       [32, 64]   \n",
            "1186_decoder.mlp.GELU_4                             -       [32, 64]   \n",
            "1187_decoder.mlp.Dropout_5                          -       [32, 64]   \n",
            "1188_decoder.mlp.Linear_6                     [64, 3]        [32, 3]   \n",
            "\n",
            "                                            Params Mult-Adds  \n",
            "Layer                                                         \n",
            "0_encoder.Embedding_user_embedding          25.94k    25.94k  \n",
            "1_encoder.Embedding_token_embedding          98.4k     98.4k  \n",
            "2_encoder.Embedding_pos_embedding            170.0     170.0  \n",
            "3_encoder.Embedding_dependency_embedding     420.0     420.0  \n",
            "4_encoder.Embedding_word_label_embedding  121.965k  121.965k  \n",
            "...                                            ...       ...  \n",
            "1184_decoder.mlp.Linear_2                        -   32.768k  \n",
            "1185_decoder.mlp.BatchNorm1d_3                   -      64.0  \n",
            "1186_decoder.mlp.GELU_4                          -         -  \n",
            "1187_decoder.mlp.Dropout_5                       -         -  \n",
            "1188_decoder.mlp.Linear_6                        -     192.0  \n",
            "\n",
            "[1189 rows x 4 columns]\n",
            "----------------------------------------------------------------------------------------------------\n",
            "                          Totals\n",
            "Total params           6.189044M\n",
            "Trainable params       6.189044M\n",
            "Non-trainable params         0.0\n",
            "Mult-Adds             27.262833M\n",
            "====================================================================================================\n"
          ]
        },
        {
          "output_type": "execute_result",
          "data": {
            "text/plain": [
              "                                         Kernel Shape   Output Shape  \\\n",
              "Layer                                                                  \n",
              "0_encoder.Embedding_user_embedding         [10, 2594]  [32, 128, 10]   \n",
              "1_encoder.Embedding_token_embedding        [50, 1968]  [32, 128, 50]   \n",
              "2_encoder.Embedding_pos_embedding            [10, 17]  [32, 128, 10]   \n",
              "3_encoder.Embedding_dependency_embedding     [10, 42]  [32, 128, 10]   \n",
              "4_encoder.Embedding_word_label_embedding   [15, 8131]  [32, 128, 15]   \n",
              "...                                               ...            ...   \n",
              "1184_decoder.mlp.Linear_2                   [512, 64]       [32, 64]   \n",
              "1185_decoder.mlp.BatchNorm1d_3                   [64]       [32, 64]   \n",
              "1186_decoder.mlp.GELU_4                             -       [32, 64]   \n",
              "1187_decoder.mlp.Dropout_5                          -       [32, 64]   \n",
              "1188_decoder.mlp.Linear_6                     [64, 3]        [32, 3]   \n",
              "\n",
              "                                            Params  Mult-Adds  \n",
              "Layer                                                          \n",
              "0_encoder.Embedding_user_embedding         25940.0    25940.0  \n",
              "1_encoder.Embedding_token_embedding        98400.0    98400.0  \n",
              "2_encoder.Embedding_pos_embedding            170.0      170.0  \n",
              "3_encoder.Embedding_dependency_embedding     420.0      420.0  \n",
              "4_encoder.Embedding_word_label_embedding  121965.0   121965.0  \n",
              "...                                            ...        ...  \n",
              "1184_decoder.mlp.Linear_2                      NaN    32768.0  \n",
              "1185_decoder.mlp.BatchNorm1d_3                 NaN       64.0  \n",
              "1186_decoder.mlp.GELU_4                        NaN        NaN  \n",
              "1187_decoder.mlp.Dropout_5                     NaN        NaN  \n",
              "1188_decoder.mlp.Linear_6                      NaN      192.0  \n",
              "\n",
              "[1189 rows x 4 columns]"
            ],
            "text/html": [
              "\n",
              "  <div id=\"df-3b1034c1-6213-4d32-a353-5fafc32ec375\">\n",
              "    <div class=\"colab-df-container\">\n",
              "      <div>\n",
              "<style scoped>\n",
              "    .dataframe tbody tr th:only-of-type {\n",
              "        vertical-align: middle;\n",
              "    }\n",
              "\n",
              "    .dataframe tbody tr th {\n",
              "        vertical-align: top;\n",
              "    }\n",
              "\n",
              "    .dataframe thead th {\n",
              "        text-align: right;\n",
              "    }\n",
              "</style>\n",
              "<table border=\"1\" class=\"dataframe\">\n",
              "  <thead>\n",
              "    <tr style=\"text-align: right;\">\n",
              "      <th></th>\n",
              "      <th>Kernel Shape</th>\n",
              "      <th>Output Shape</th>\n",
              "      <th>Params</th>\n",
              "      <th>Mult-Adds</th>\n",
              "    </tr>\n",
              "    <tr>\n",
              "      <th>Layer</th>\n",
              "      <th></th>\n",
              "      <th></th>\n",
              "      <th></th>\n",
              "      <th></th>\n",
              "    </tr>\n",
              "  </thead>\n",
              "  <tbody>\n",
              "    <tr>\n",
              "      <th>0_encoder.Embedding_user_embedding</th>\n",
              "      <td>[10, 2594]</td>\n",
              "      <td>[32, 128, 10]</td>\n",
              "      <td>25940.0</td>\n",
              "      <td>25940.0</td>\n",
              "    </tr>\n",
              "    <tr>\n",
              "      <th>1_encoder.Embedding_token_embedding</th>\n",
              "      <td>[50, 1968]</td>\n",
              "      <td>[32, 128, 50]</td>\n",
              "      <td>98400.0</td>\n",
              "      <td>98400.0</td>\n",
              "    </tr>\n",
              "    <tr>\n",
              "      <th>2_encoder.Embedding_pos_embedding</th>\n",
              "      <td>[10, 17]</td>\n",
              "      <td>[32, 128, 10]</td>\n",
              "      <td>170.0</td>\n",
              "      <td>170.0</td>\n",
              "    </tr>\n",
              "    <tr>\n",
              "      <th>3_encoder.Embedding_dependency_embedding</th>\n",
              "      <td>[10, 42]</td>\n",
              "      <td>[32, 128, 10]</td>\n",
              "      <td>420.0</td>\n",
              "      <td>420.0</td>\n",
              "    </tr>\n",
              "    <tr>\n",
              "      <th>4_encoder.Embedding_word_label_embedding</th>\n",
              "      <td>[15, 8131]</td>\n",
              "      <td>[32, 128, 15]</td>\n",
              "      <td>121965.0</td>\n",
              "      <td>121965.0</td>\n",
              "    </tr>\n",
              "    <tr>\n",
              "      <th>...</th>\n",
              "      <td>...</td>\n",
              "      <td>...</td>\n",
              "      <td>...</td>\n",
              "      <td>...</td>\n",
              "    </tr>\n",
              "    <tr>\n",
              "      <th>1184_decoder.mlp.Linear_2</th>\n",
              "      <td>[512, 64]</td>\n",
              "      <td>[32, 64]</td>\n",
              "      <td>NaN</td>\n",
              "      <td>32768.0</td>\n",
              "    </tr>\n",
              "    <tr>\n",
              "      <th>1185_decoder.mlp.BatchNorm1d_3</th>\n",
              "      <td>[64]</td>\n",
              "      <td>[32, 64]</td>\n",
              "      <td>NaN</td>\n",
              "      <td>64.0</td>\n",
              "    </tr>\n",
              "    <tr>\n",
              "      <th>1186_decoder.mlp.GELU_4</th>\n",
              "      <td>-</td>\n",
              "      <td>[32, 64]</td>\n",
              "      <td>NaN</td>\n",
              "      <td>NaN</td>\n",
              "    </tr>\n",
              "    <tr>\n",
              "      <th>1187_decoder.mlp.Dropout_5</th>\n",
              "      <td>-</td>\n",
              "      <td>[32, 64]</td>\n",
              "      <td>NaN</td>\n",
              "      <td>NaN</td>\n",
              "    </tr>\n",
              "    <tr>\n",
              "      <th>1188_decoder.mlp.Linear_6</th>\n",
              "      <td>[64, 3]</td>\n",
              "      <td>[32, 3]</td>\n",
              "      <td>NaN</td>\n",
              "      <td>192.0</td>\n",
              "    </tr>\n",
              "  </tbody>\n",
              "</table>\n",
              "<p>1189 rows × 4 columns</p>\n",
              "</div>\n",
              "      <button class=\"colab-df-convert\" onclick=\"convertToInteractive('df-3b1034c1-6213-4d32-a353-5fafc32ec375')\"\n",
              "              title=\"Convert this dataframe to an interactive table.\"\n",
              "              style=\"display:none;\">\n",
              "        \n",
              "  <svg xmlns=\"http://www.w3.org/2000/svg\" height=\"24px\"viewBox=\"0 0 24 24\"\n",
              "       width=\"24px\">\n",
              "    <path d=\"M0 0h24v24H0V0z\" fill=\"none\"/>\n",
              "    <path d=\"M18.56 5.44l.94 2.06.94-2.06 2.06-.94-2.06-.94-.94-2.06-.94 2.06-2.06.94zm-11 1L8.5 8.5l.94-2.06 2.06-.94-2.06-.94L8.5 2.5l-.94 2.06-2.06.94zm10 10l.94 2.06.94-2.06 2.06-.94-2.06-.94-.94-2.06-.94 2.06-2.06.94z\"/><path d=\"M17.41 7.96l-1.37-1.37c-.4-.4-.92-.59-1.43-.59-.52 0-1.04.2-1.43.59L10.3 9.45l-7.72 7.72c-.78.78-.78 2.05 0 2.83L4 21.41c.39.39.9.59 1.41.59.51 0 1.02-.2 1.41-.59l7.78-7.78 2.81-2.81c.8-.78.8-2.07 0-2.86zM5.41 20L4 18.59l7.72-7.72 1.47 1.35L5.41 20z\"/>\n",
              "  </svg>\n",
              "      </button>\n",
              "      \n",
              "  <style>\n",
              "    .colab-df-container {\n",
              "      display:flex;\n",
              "      flex-wrap:wrap;\n",
              "      gap: 12px;\n",
              "    }\n",
              "\n",
              "    .colab-df-convert {\n",
              "      background-color: #E8F0FE;\n",
              "      border: none;\n",
              "      border-radius: 50%;\n",
              "      cursor: pointer;\n",
              "      display: none;\n",
              "      fill: #1967D2;\n",
              "      height: 32px;\n",
              "      padding: 0 0 0 0;\n",
              "      width: 32px;\n",
              "    }\n",
              "\n",
              "    .colab-df-convert:hover {\n",
              "      background-color: #E2EBFA;\n",
              "      box-shadow: 0px 1px 2px rgba(60, 64, 67, 0.3), 0px 1px 3px 1px rgba(60, 64, 67, 0.15);\n",
              "      fill: #174EA6;\n",
              "    }\n",
              "\n",
              "    [theme=dark] .colab-df-convert {\n",
              "      background-color: #3B4455;\n",
              "      fill: #D2E3FC;\n",
              "    }\n",
              "\n",
              "    [theme=dark] .colab-df-convert:hover {\n",
              "      background-color: #434B5C;\n",
              "      box-shadow: 0px 1px 3px 1px rgba(0, 0, 0, 0.15);\n",
              "      filter: drop-shadow(0px 1px 2px rgba(0, 0, 0, 0.3));\n",
              "      fill: #FFFFFF;\n",
              "    }\n",
              "  </style>\n",
              "\n",
              "      <script>\n",
              "        const buttonEl =\n",
              "          document.querySelector('#df-3b1034c1-6213-4d32-a353-5fafc32ec375 button.colab-df-convert');\n",
              "        buttonEl.style.display =\n",
              "          google.colab.kernel.accessAllowed ? 'block' : 'none';\n",
              "\n",
              "        async function convertToInteractive(key) {\n",
              "          const element = document.querySelector('#df-3b1034c1-6213-4d32-a353-5fafc32ec375');\n",
              "          const dataTable =\n",
              "            await google.colab.kernel.invokeFunction('convertToInteractive',\n",
              "                                                     [key], {});\n",
              "          if (!dataTable) return;\n",
              "\n",
              "          const docLinkHtml = 'Like what you see? Visit the ' +\n",
              "            '<a target=\"_blank\" href=https://colab.research.google.com/notebooks/data_table.ipynb>data table notebook</a>'\n",
              "            + ' to learn more about interactive tables.';\n",
              "          element.innerHTML = '';\n",
              "          dataTable['output_type'] = 'display_data';\n",
              "          await google.colab.output.renderOutput(dataTable, element);\n",
              "          const docLink = document.createElement('div');\n",
              "          docLink.innerHTML = docLinkHtml;\n",
              "          element.appendChild(docLink);\n",
              "        }\n",
              "      </script>\n",
              "    </div>\n",
              "  </div>\n",
              "  "
            ]
          },
          "metadata": {},
          "execution_count": 112
        }
      ]
    },
    {
      "cell_type": "markdown",
      "source": [
        "# **Training**"
      ],
      "metadata": {
        "id": "7gpYY89-tnbE"
      }
    },
    {
      "cell_type": "code",
      "source": [
        "optimizer = torch.optim.AdamW(model.parameters(), lr=1e-3)\n",
        "scheduler =  torch.optim.lr_scheduler.ReduceLROnPlateau(optimizer, factor=0.5, patience=3, mode='min') # fill this out\n",
        "criterion = torch.nn.CrossEntropyLoss(reduction = 'mean' ,weight = torch.tensor([1.0, 5.0, 0]).to(device), ignore_index = 2)\n",
        "scaler = torch.cuda.amp.GradScaler()"
      ],
      "metadata": {
        "id": "A_1RvCjDuy03"
      },
      "execution_count": 113,
      "outputs": []
    },
    {
      "cell_type": "code",
      "source": [
        "from tqdm import tqdm\n",
        "\n",
        "def train_model(model, train_loader, criterion, optimizer):\n",
        "    \n",
        "    model.train()\n",
        "    batch_bar = tqdm(total=len(train_loader), dynamic_ncols=True, leave=False, position=0, desc='Train') \n",
        "\n",
        "    total_loss = 0\n",
        "    total_f1 = 0\n",
        "\n",
        "    for i, data in enumerate(train_loader):\n",
        "        optimizer.zero_grad()\n",
        "\n",
        "        x_encoder,x_decoder,y_encoder,y_decoder,lx_encoder,lx_decoder, ly_encoder, ly_decoder = data\n",
        "        x_encoder,x_decoder,y_encoder,y_decoder = x_encoder.to(device),x_decoder.to(device),y_encoder.to(device),y_decoder.to(device)\n",
        "\n",
        "        with torch.cuda.amp.autocast():     \n",
        "            decoder_out, attn_wts = model(x_encoder,lx_encoder,y_encoder,x_decoder,lx_decoder)\n",
        "            decoder_out_reshaped = decoder_out.reshape(decoder_out.shape[0] * decoder_out.shape[1], decoder_out.shape[2])\n",
        "            target_reshaped = y_decoder.reshape(-1)\n",
        "            loss        =  criterion(decoder_out_reshaped, target_reshaped.type(torch.LongTensor).to(device))\n",
        "\n",
        "        total_loss += loss.item()\n",
        "\n",
        "        batch_bar.set_postfix(\n",
        "            loss=\"{:.04f}\".format(float(total_loss / (i + 1))),\n",
        "            lr=\"{:.06f}\".format(float(optimizer.param_groups[0]['lr'])))\n",
        "\n",
        "        batch_bar.update() # Update tqdm bar\n",
        "\n",
        "        # Another couple things you need for FP16. \n",
        "        scaler.scale(loss).backward() # This is a replacement for loss.backward()\n",
        "        scaler.step(optimizer) # This is a replacement for optimizer.step()\n",
        "        scaler.update() # This is something added just for FP16\n",
        "\n",
        "        del x_encoder,x_decoder,y_encoder,y_decoder,lx_encoder,lx_decoder, ly_encoder, ly_decoder, decoder_out, loss \n",
        "        torch.cuda.empty_cache()\n",
        "        #gc.collect()\n",
        "\n",
        "    batch_bar.close() # You need this to close the tqdm bar\n",
        "    \n",
        "    return total_loss / len(train_loader), attn_wts"
      ],
      "metadata": {
        "id": "1rZhYg8-usp1"
      },
      "execution_count": 114,
      "outputs": []
    },
    {
      "cell_type": "code",
      "source": [
        "def validate_model(model, val_loader):\n",
        "    model.eval()\n",
        "    batch_bar = tqdm(total=len(val_loader), dynamic_ncols=True, position=0, leave=False, desc='Val')\n",
        "\n",
        "    total_loss = 0\n",
        "    results = []\n",
        "    sigmoid = torch.nn.Sigmoid()\n",
        "    for i, data in enumerate(val_loader):\n",
        "\n",
        "        x_encoder,x_decoder,y_encoder,y_decoder,lx_encoder,lx_decoder, ly_encoder, ly_decoder = data\n",
        "        x_encoder,x_decoder,y_encoder,y_decoder = x_encoder.to(device),x_decoder.to(device),y_encoder.to(device),y_decoder.to(device)\n",
        "\n",
        "        with torch.cuda.amp.autocast():   \n",
        "          with torch.inference_mode():\n",
        "            decoder_out, attn_wts = model(x_encoder,lx_encoder,y_encoder,x_decoder,lx_decoder)\n",
        "            decoder_out_reshaped = decoder_out.reshape(decoder_out.shape[0] * decoder_out.shape[1], decoder_out.shape[2])\n",
        "            target_reshaped = y_decoder.reshape(-1)\n",
        "            loss        =  criterion(decoder_out_reshaped, target_reshaped.type(torch.LongTensor).to(device))\n",
        "\n",
        "        i = 0\n",
        "        decoder_out_sigmoid = torch.nn.functional.softmax(decoder_out, dim = -1)\n",
        "        for out in decoder_out_sigmoid.detach().cpu().numpy():\n",
        "          out1 = out[0:lx_decoder[i]]\n",
        "          results.extend(out1)\n",
        "          i+=1\n",
        "\n",
        "        total_loss += float(loss.item())\n",
        "        batch_bar.set_postfix(loss=\"{:.04f}\".format(float(total_loss / (i + 1))))\n",
        "        batch_bar.update()\n",
        "    \n",
        "        del x_encoder,x_decoder,y_encoder,y_decoder,lx_encoder,lx_decoder, ly_encoder, ly_decoder,decoder_out, loss\n",
        "        torch.cuda.empty_cache()\n",
        "        \n",
        "    batch_bar.close()\n",
        "    total_loss = total_loss/len(val_loader)\n",
        "    return total_loss, results, attn_wts"
      ],
      "metadata": {
        "id": "LL3WvQxcjXbg"
      },
      "execution_count": 115,
      "outputs": []
    },
    {
      "cell_type": "code",
      "source": [
        "actual = []\n",
        "for instance_id in iterkeys(valid_labels):\n",
        "  try:\n",
        "      actual.append(valid_labels[instance_id])\n",
        "  except KeyError:\n",
        "      print('No prediction for instance ID ' + instance_id + '!')"
      ],
      "metadata": {
        "id": "tiZTAtBjITbU"
      },
      "execution_count": 61,
      "outputs": []
    },
    {
      "cell_type": "code",
      "source": [
        "!pip install seaborn"
      ],
      "metadata": {
        "colab": {
          "base_uri": "https://localhost:8080/"
        },
        "id": "yFcOqJS0kKvl",
        "outputId": "7ebe8342-c937-4b61-eb65-d695b12c051b"
      },
      "execution_count": 83,
      "outputs": [
        {
          "output_type": "stream",
          "name": "stdout",
          "text": [
            "Looking in indexes: https://pypi.org/simple, https://us-python.pkg.dev/colab-wheels/public/simple/\n",
            "Requirement already satisfied: seaborn in /usr/local/lib/python3.8/dist-packages (0.11.2)\n",
            "Requirement already satisfied: matplotlib>=2.2 in /usr/local/lib/python3.8/dist-packages (from seaborn) (3.5.3)\n",
            "Requirement already satisfied: scipy>=1.0 in /usr/local/lib/python3.8/dist-packages (from seaborn) (1.7.3)\n",
            "Requirement already satisfied: pandas>=0.23 in /usr/local/lib/python3.8/dist-packages (from seaborn) (1.3.5)\n",
            "Requirement already satisfied: numpy>=1.15 in /usr/local/lib/python3.8/dist-packages (from seaborn) (1.22.4)\n",
            "Requirement already satisfied: cycler>=0.10 in /usr/local/lib/python3.8/dist-packages (from matplotlib>=2.2->seaborn) (0.11.0)\n",
            "Requirement already satisfied: fonttools>=4.22.0 in /usr/local/lib/python3.8/dist-packages (from matplotlib>=2.2->seaborn) (4.38.0)\n",
            "Requirement already satisfied: packaging>=20.0 in /usr/local/lib/python3.8/dist-packages (from matplotlib>=2.2->seaborn) (23.0)\n",
            "Requirement already satisfied: pyparsing>=2.2.1 in /usr/local/lib/python3.8/dist-packages (from matplotlib>=2.2->seaborn) (3.0.9)\n",
            "Requirement already satisfied: python-dateutil>=2.7 in /usr/local/lib/python3.8/dist-packages (from matplotlib>=2.2->seaborn) (2.8.2)\n",
            "Requirement already satisfied: pillow>=6.2.0 in /usr/local/lib/python3.8/dist-packages (from matplotlib>=2.2->seaborn) (8.4.0)\n",
            "Requirement already satisfied: kiwisolver>=1.0.1 in /usr/local/lib/python3.8/dist-packages (from matplotlib>=2.2->seaborn) (1.4.4)\n",
            "Requirement already satisfied: pytz>=2017.3 in /usr/local/lib/python3.8/dist-packages (from pandas>=0.23->seaborn) (2022.7.1)\n",
            "Requirement already satisfied: six>=1.5 in /usr/local/lib/python3.8/dist-packages (from python-dateutil>=2.7->matplotlib>=2.2->seaborn) (1.15.0)\n"
          ]
        }
      ]
    },
    {
      "cell_type": "code",
      "source": [
        "import matplotlib.pyplot as plt\n",
        "import seaborn as sns\n",
        "def plot_attention(attention): \n",
        "    # Function for plotting attention\n",
        "    # You need to get a diagonal plot\n",
        "    plt.clf()\n",
        "    sns.heatmap(attention, cmap='GnBu')\n",
        "    plt.show()"
      ],
      "metadata": {
        "id": "KJ1lkO5nkExk"
      },
      "execution_count": 84,
      "outputs": []
    },
    {
      "cell_type": "code",
      "source": [
        "gc.collect()\n",
        "torch.cuda.empty_cache()"
      ],
      "metadata": {
        "id": "-Ce4zVCqctd2",
        "colab": {
          "base_uri": "https://localhost:8080/"
        },
        "outputId": "ca672eb2-4612-46fa-f87c-55de7af49922"
      },
      "execution_count": 85,
      "outputs": [
        {
          "output_type": "stream",
          "name": "stderr",
          "text": []
        }
      ]
    },
    {
      "cell_type": "code",
      "source": [
        "valid_loss, val_results, attn_wts  = validate_model(model, val_loader)"
      ],
      "metadata": {
        "colab": {
          "base_uri": "https://localhost:8080/"
        },
        "id": "_FT9JZobvjYS",
        "outputId": "4719ba2e-e5aa-4f05-f7c1-3011ddaa4513"
      },
      "execution_count": 87,
      "outputs": [
        {
          "output_type": "stream",
          "name": "stderr",
          "text": []
        }
      ]
    },
    {
      "cell_type": "code",
      "source": [
        "res = np.stack(val_results, axis = 0)\n",
        "#res1 = np.argmax(res[:,0:2], axis = 1)\n"
      ],
      "metadata": {
        "id": "CCrePCmv4Sgt"
      },
      "execution_count": 88,
      "outputs": []
    },
    {
      "cell_type": "code",
      "source": [
        "print(evaluate_metrics(actual, res[:,1]))"
      ],
      "metadata": {
        "colab": {
          "base_uri": "https://localhost:8080/"
        },
        "id": "1ErlRi5772kU",
        "outputId": "2964bf5c-2854-4798-e643-0665e5725b2b"
      },
      "execution_count": 89,
      "outputs": [
        {
          "output_type": "stream",
          "name": "stdout",
          "text": [
            "(0.8570941777197231, 0.5046505493529208, 0.0)\n"
          ]
        }
      ]
    },
    {
      "cell_type": "code",
      "source": [
        "plot_attention(attn_wts[32].cpu().detach().numpy())"
      ],
      "metadata": {
        "colab": {
          "base_uri": "https://localhost:8080/",
          "height": 276
        },
        "id": "4HwkeCnyxIEV",
        "outputId": "d213dd6a-b838-4ef1-b929-1bfb83e38b9c"
      },
      "execution_count": 91,
      "outputs": [
        {
          "output_type": "display_data",
          "data": {
            "text/plain": [
              "<Figure size 432x288 with 2 Axes>"
            ],
            "image/png": "[encoded data removed]"
          },
          "metadata": {
            "needs_background": "light"
          }
        }
      ]
    },
    {
      "cell_type": "code",
      "source": [
        "optimizer.param_groups[0]['lr'] = 1e-4"
      ],
      "metadata": {
        "id": "5vdfZbFJB0P6"
      },
      "execution_count": 117,
      "outputs": []
    },
    {
      "cell_type": "code",
      "source": [
        "torch.cuda.empty_cache()\n",
        "gc.collect()\n",
        "\n",
        "for epoch in range(0, 50):\n",
        "\n",
        "    print(\"\\nEpoch: {}/{}\".format(epoch+1, 50))\n",
        "    \n",
        "    curr_lr = optimizer.param_groups[0]['lr']\n",
        "\n",
        "    train_loss, attn_wts = train_model(model, train_loader, criterion, optimizer) \n",
        "    valid_loss, val_results, attn_val_wts  = validate_model(model, val_loader)\n",
        "    \n",
        "    scheduler.step(valid_loss)\n",
        "\n",
        "    print(\"\\tTrain Loss {:.04f}\\t Learning Rate {:.07f}\".format(train_loss, curr_lr))\n",
        "    print(\"Val Loss {:.04f}\".format(valid_loss))\n",
        "    res = np.stack(val_results, axis = 0)\n",
        "    print(evaluate_metrics(actual, res[:,1]))\n",
        "\n",
        "    # Plot Attention for a single item in the batch\n",
        "    plot_attention(attn_wts[0].cpu().detach().numpy())\n",
        "\n",
        "\n",
        "    # wandb.log({\n",
        "    #     'train_loss': train_loss,  \n",
        "    #     'valid_dist': valid_dist, \n",
        "    #     'valid_loss': valid_loss, \n",
        "    #     'lr'        : curr_lr\n",
        "    # })\n",
        "    \n",
        "#     save_model(model, optimizer, scheduler, ['valid_dist', valid_dist], epoch, epoch_model_path)\n",
        "#     wandb.save(epoch_model_path)\n",
        "#     print(\"Saved epoch model\")\n",
        "\n",
        "#     if valid_dist <= best_lev_dist:\n",
        "#         best_lev_dist = valid_dist\n",
        "#         save_model(model, optimizer, scheduler, ['valid_dist', valid_dist], epoch, best_model_path)\n",
        "#         wandb.save(best_model_path)\n",
        "#         print(\"Saved best model\")\n",
        "#       # You may find it interesting to exlplore Wandb Artifcats to version your models\n",
        "# run.finish()"
      ],
      "metadata": {
        "colab": {
          "base_uri": "https://localhost:8080/",
          "height": 1000
        },
        "id": "HXoIrQCIwIp_",
        "outputId": "844e81f0-8e51-419f-cc0f-2f5c06b046cb"
      },
      "execution_count": 118,
      "outputs": [
        {
          "output_type": "stream",
          "name": "stderr",
          "text": []
        },
        {
          "output_type": "stream",
          "name": "stdout",
          "text": [
            "\n",
            "Epoch: 1/50\n"
          ]
        },
        {
          "output_type": "stream",
          "name": "stderr",
          "text": [
            "\rTrain:   0%|          | 0/1214 [00:00<?, ?it/s]/usr/local/lib/python3.8/dist-packages/torch/utils/data/dataloader.py:554: UserWarning: This DataLoader will create 8 worker processes in total. Our suggested max number of worker in current system is 4, which is smaller than what this DataLoader is going to create. Please be aware that excessive worker creation might get DataLoader running slow or even freeze, lower the worker number to avoid potential slowness/freeze if necessary.\n",
            "  warnings.warn(_create_warning_msg(\n"
          ]
        },
        {
          "output_type": "stream",
          "name": "stdout",
          "text": [
            "\tTrain Loss 0.4939\t Learning Rate 0.0001000\n",
            "Val Loss 0.6043\n",
            "(0.7309654235958015, 0.7637096729774026, 0.4052885026357031)\n"
          ]
        },
        {
          "output_type": "display_data",
          "data": {
            "text/plain": [
              "<Figure size 432x288 with 2 Axes>"
            ],
            "image/png": "[encoded data removed]"
          },
          "metadata": {
            "needs_background": "light"
          }
        },
        {
          "output_type": "stream",
          "name": "stdout",
          "text": [
            "\n",
            "Epoch: 2/50\n"
          ]
        },
        {
          "output_type": "stream",
          "name": "stderr",
          "text": []
        },
        {
          "output_type": "stream",
          "name": "stdout",
          "text": [
            "\tTrain Loss 0.4867\t Learning Rate 0.0001000\n",
            "Val Loss 0.6193\n",
            "(0.733926386386283, 0.7607112094888736, 0.40461914023049533)\n"
          ]
        },
        {
          "output_type": "display_data",
          "data": {
            "text/plain": [
              "<Figure size 432x288 with 2 Axes>"
            ],
            "image/png": "[encoded data removed]"
          },
          "metadata": {
            "needs_background": "light"
          }
        },
        {
          "output_type": "stream",
          "name": "stdout",
          "text": [
            "\n",
            "Epoch: 3/50\n"
          ]
        },
        {
          "output_type": "stream",
          "name": "stderr",
          "text": []
        },
        {
          "output_type": "stream",
          "name": "stdout",
          "text": [
            "\tTrain Loss 0.4820\t Learning Rate 0.0000500\n",
            "Val Loss 0.6213\n",
            "(0.7322251880611502, 0.7591500882868119, 0.40286164498579535)\n"
          ]
        },
        {
          "output_type": "display_data",
          "data": {
            "text/plain": [
              "<Figure size 432x288 with 2 Axes>"
            ],
            "image/png": "[encoded data removed]"
          },
          "metadata": {
            "needs_background": "light"
          }
        },
        {
          "output_type": "stream",
          "name": "stdout",
          "text": [
            "\n",
            "Epoch: 4/50\n"
          ]
        },
        {
          "output_type": "stream",
          "name": "stderr",
          "text": []
        },
        {
          "output_type": "stream",
          "name": "stdout",
          "text": [
            "\tTrain Loss 0.4794\t Learning Rate 0.0000500\n",
            "Val Loss 0.6305\n",
            "(0.725567539380547, 0.7585289742815694, 0.40162616254877925)\n"
          ]
        },
        {
          "output_type": "display_data",
          "data": {
            "text/plain": [
              "<Figure size 432x288 with 2 Axes>"
            ],
            "image/png": "[encoded data removed]"
          },
          "metadata": {
            "needs_background": "light"
          }
        },
        {
          "output_type": "stream",
          "name": "stdout",
          "text": [
            "\n",
            "Epoch: 5/50\n"
          ]
        },
        {
          "output_type": "stream",
          "name": "stderr",
          "text": []
        },
        {
          "output_type": "stream",
          "name": "stdout",
          "text": [
            "\tTrain Loss 0.4772\t Learning Rate 0.0000500\n",
            "Val Loss 0.6328\n",
            "(0.7234842813405133, 0.7561290813639882, 0.39867903158886253)\n"
          ]
        },
        {
          "output_type": "display_data",
          "data": {
            "text/plain": [
              "<Figure size 432x288 with 2 Axes>"
            ],
            "image/png": "[encoded data removed]"
          },
          "metadata": {
            "needs_background": "light"
          }
        },
        {
          "output_type": "stream",
          "name": "stdout",
          "text": [
            "\n",
            "Epoch: 6/50\n"
          ]
        },
        {
          "output_type": "stream",
          "name": "stderr",
          "text": []
        },
        {
          "output_type": "stream",
          "name": "stdout",
          "text": [
            "\tTrain Loss 0.4750\t Learning Rate 0.0000500\n",
            "Val Loss 0.6413\n",
            "(0.7233113218749838, 0.7559379236996425, 0.399065792200373)\n"
          ]
        },
        {
          "output_type": "display_data",
          "data": {
            "text/plain": [
              "<Figure size 432x288 with 2 Axes>"
            ],
            "image/png": "[encoded data removed]"
          },
          "metadata": {
            "needs_background": "light"
          }
        },
        {
          "output_type": "stream",
          "name": "stdout",
          "text": [
            "\n",
            "Epoch: 7/50\n"
          ]
        },
        {
          "output_type": "stream",
          "name": "stderr",
          "text": []
        },
        {
          "output_type": "stream",
          "name": "stdout",
          "text": [
            "\tTrain Loss 0.4728\t Learning Rate 0.0000250\n",
            "Val Loss 0.6353\n",
            "(0.7192790429920438, 0.7539577772134405, 0.3969421670729005)\n"
          ]
        },
        {
          "output_type": "display_data",
          "data": {
            "text/plain": [
              "<Figure size 432x288 with 2 Axes>"
            ],
            "image/png": "[encoded data removed]"
          },
          "metadata": {
            "needs_background": "light"
          }
        },
        {
          "output_type": "stream",
          "name": "stdout",
          "text": [
            "\n",
            "Epoch: 8/50\n"
          ]
        },
        {
          "output_type": "stream",
          "name": "stderr",
          "text": []
        },
        {
          "output_type": "stream",
          "name": "stdout",
          "text": [
            "\tTrain Loss 0.4716\t Learning Rate 0.0000250\n",
            "Val Loss 0.6539\n",
            "(0.7236830556516441, 0.7537483028336055, 0.3982857110760365)\n"
          ]
        },
        {
          "output_type": "display_data",
          "data": {
            "text/plain": [
              "<Figure size 432x288 with 2 Axes>"
            ],
            "image/png": "[encoded data removed]"
          },
          "metadata": {
            "needs_background": "light"
          }
        },
        {
          "output_type": "stream",
          "name": "stdout",
          "text": [
            "\n",
            "Epoch: 9/50\n"
          ]
        },
        {
          "output_type": "stream",
          "name": "stderr",
          "text": [
            "Train:   0%|          | 6/1214 [00:04<12:47,  1.57it/s, loss=0.4682, lr=0.000025]"
          ]
        },
        {
          "output_type": "error",
          "ename": "KeyboardInterrupt",
          "evalue": "ignored",
          "traceback": [
            "\u001b[0;31m---------------------------------------------------------------------------\u001b[0m",
            "\u001b[0;31mKeyboardInterrupt\u001b[0m                         Traceback (most recent call last)",
            "\u001b[0;32m<ipython-input-118-48151fcb618b>\u001b[0m in \u001b[0;36m<module>\u001b[0;34m\u001b[0m\n\u001b[1;32m      8\u001b[0m     \u001b[0mcurr_lr\u001b[0m \u001b[0;34m=\u001b[0m \u001b[0moptimizer\u001b[0m\u001b[0;34m.\u001b[0m\u001b[0mparam_groups\u001b[0m\u001b[0;34m[\u001b[0m\u001b[0;36m0\u001b[0m\u001b[0;34m]\u001b[0m\u001b[0;34m[\u001b[0m\u001b[0;34m'lr'\u001b[0m\u001b[0;34m]\u001b[0m\u001b[0;34m\u001b[0m\u001b[0;34m\u001b[0m\u001b[0m\n\u001b[1;32m      9\u001b[0m \u001b[0;34m\u001b[0m\u001b[0m\n\u001b[0;32m---> 10\u001b[0;31m     \u001b[0mtrain_loss\u001b[0m\u001b[0;34m,\u001b[0m \u001b[0mattn_wts\u001b[0m \u001b[0;34m=\u001b[0m \u001b[0mtrain_model\u001b[0m\u001b[0;34m(\u001b[0m\u001b[0mmodel\u001b[0m\u001b[0;34m,\u001b[0m \u001b[0mtrain_loader\u001b[0m\u001b[0;34m,\u001b[0m \u001b[0mcriterion\u001b[0m\u001b[0;34m,\u001b[0m \u001b[0moptimizer\u001b[0m\u001b[0;34m)\u001b[0m\u001b[0;34m\u001b[0m\u001b[0;34m\u001b[0m\u001b[0m\n\u001b[0m\u001b[1;32m     11\u001b[0m     \u001b[0mvalid_loss\u001b[0m\u001b[0;34m,\u001b[0m \u001b[0mval_results\u001b[0m\u001b[0;34m,\u001b[0m \u001b[0mattn_val_wts\u001b[0m  \u001b[0;34m=\u001b[0m \u001b[0mvalidate_model\u001b[0m\u001b[0;34m(\u001b[0m\u001b[0mmodel\u001b[0m\u001b[0;34m,\u001b[0m \u001b[0mval_loader\u001b[0m\u001b[0;34m)\u001b[0m\u001b[0;34m\u001b[0m\u001b[0;34m\u001b[0m\u001b[0m\n\u001b[1;32m     12\u001b[0m \u001b[0;34m\u001b[0m\u001b[0m\n",
            "\u001b[0;32m<ipython-input-114-4c9ebc583a66>\u001b[0m in \u001b[0;36mtrain_model\u001b[0;34m(model, train_loader, criterion, optimizer)\u001b[0m\n\u001b[1;32m     16\u001b[0m \u001b[0;34m\u001b[0m\u001b[0m\n\u001b[1;32m     17\u001b[0m         \u001b[0;32mwith\u001b[0m \u001b[0mtorch\u001b[0m\u001b[0;34m.\u001b[0m\u001b[0mcuda\u001b[0m\u001b[0;34m.\u001b[0m\u001b[0mamp\u001b[0m\u001b[0;34m.\u001b[0m\u001b[0mautocast\u001b[0m\u001b[0;34m(\u001b[0m\u001b[0;34m)\u001b[0m\u001b[0;34m:\u001b[0m\u001b[0;34m\u001b[0m\u001b[0;34m\u001b[0m\u001b[0m\n\u001b[0;32m---> 18\u001b[0;31m             \u001b[0mdecoder_out\u001b[0m\u001b[0;34m,\u001b[0m \u001b[0mattn_wts\u001b[0m \u001b[0;34m=\u001b[0m \u001b[0mmodel\u001b[0m\u001b[0;34m(\u001b[0m\u001b[0mx_encoder\u001b[0m\u001b[0;34m,\u001b[0m\u001b[0mlx_encoder\u001b[0m\u001b[0;34m,\u001b[0m\u001b[0my_encoder\u001b[0m\u001b[0;34m,\u001b[0m\u001b[0mx_decoder\u001b[0m\u001b[0;34m,\u001b[0m\u001b[0mlx_decoder\u001b[0m\u001b[0;34m)\u001b[0m\u001b[0;34m\u001b[0m\u001b[0;34m\u001b[0m\u001b[0m\n\u001b[0m\u001b[1;32m     19\u001b[0m             \u001b[0mdecoder_out_reshaped\u001b[0m \u001b[0;34m=\u001b[0m \u001b[0mdecoder_out\u001b[0m\u001b[0;34m.\u001b[0m\u001b[0mreshape\u001b[0m\u001b[0;34m(\u001b[0m\u001b[0mdecoder_out\u001b[0m\u001b[0;34m.\u001b[0m\u001b[0mshape\u001b[0m\u001b[0;34m[\u001b[0m\u001b[0;36m0\u001b[0m\u001b[0;34m]\u001b[0m \u001b[0;34m*\u001b[0m \u001b[0mdecoder_out\u001b[0m\u001b[0;34m.\u001b[0m\u001b[0mshape\u001b[0m\u001b[0;34m[\u001b[0m\u001b[0;36m1\u001b[0m\u001b[0;34m]\u001b[0m\u001b[0;34m,\u001b[0m \u001b[0mdecoder_out\u001b[0m\u001b[0;34m.\u001b[0m\u001b[0mshape\u001b[0m\u001b[0;34m[\u001b[0m\u001b[0;36m2\u001b[0m\u001b[0;34m]\u001b[0m\u001b[0;34m)\u001b[0m\u001b[0;34m\u001b[0m\u001b[0;34m\u001b[0m\u001b[0m\n\u001b[1;32m     20\u001b[0m             \u001b[0mtarget_reshaped\u001b[0m \u001b[0;34m=\u001b[0m \u001b[0my_decoder\u001b[0m\u001b[0;34m.\u001b[0m\u001b[0mreshape\u001b[0m\u001b[0;34m(\u001b[0m\u001b[0;34m-\u001b[0m\u001b[0;36m1\u001b[0m\u001b[0;34m)\u001b[0m\u001b[0;34m\u001b[0m\u001b[0;34m\u001b[0m\u001b[0m\n",
            "\u001b[0;32m/usr/local/lib/python3.8/dist-packages/torch/nn/modules/module.py\u001b[0m in \u001b[0;36m_call_impl\u001b[0;34m(self, *input, **kwargs)\u001b[0m\n\u001b[1;32m   1192\u001b[0m         if not (self._backward_hooks or self._forward_hooks or self._forward_pre_hooks or _global_backward_hooks\n\u001b[1;32m   1193\u001b[0m                 or _global_forward_hooks or _global_forward_pre_hooks):\n\u001b[0;32m-> 1194\u001b[0;31m             \u001b[0;32mreturn\u001b[0m \u001b[0mforward_call\u001b[0m\u001b[0;34m(\u001b[0m\u001b[0;34m*\u001b[0m\u001b[0minput\u001b[0m\u001b[0;34m,\u001b[0m \u001b[0;34m**\u001b[0m\u001b[0mkwargs\u001b[0m\u001b[0;34m)\u001b[0m\u001b[0;34m\u001b[0m\u001b[0;34m\u001b[0m\u001b[0m\n\u001b[0m\u001b[1;32m   1195\u001b[0m         \u001b[0;31m# Do not call functions when jit is used\u001b[0m\u001b[0;34m\u001b[0m\u001b[0;34m\u001b[0m\u001b[0;34m\u001b[0m\u001b[0m\n\u001b[1;32m   1196\u001b[0m         \u001b[0mfull_backward_hooks\u001b[0m\u001b[0;34m,\u001b[0m \u001b[0mnon_full_backward_hooks\u001b[0m \u001b[0;34m=\u001b[0m \u001b[0;34m[\u001b[0m\u001b[0;34m]\u001b[0m\u001b[0;34m,\u001b[0m \u001b[0;34m[\u001b[0m\u001b[0;34m]\u001b[0m\u001b[0;34m\u001b[0m\u001b[0;34m\u001b[0m\u001b[0m\n",
            "\u001b[0;32m<ipython-input-111-4fccfd83e4bd>\u001b[0m in \u001b[0;36mforward\u001b[0;34m(self, x_encoder, x_encoder_lengths, y_encoder_labels, x_decoder, x_decoder_lengths)\u001b[0m\n\u001b[1;32m     40\u001b[0m         \u001b[0;31m#for batch_idx in range(encoder_out.shape[0]):\u001b[0m\u001b[0;34m\u001b[0m\u001b[0;34m\u001b[0m\u001b[0;34m\u001b[0m\u001b[0m\n\u001b[1;32m     41\u001b[0m         \u001b[0;31m#  encoder_out_new[batch_idx] = torch.max(encoder_out[batch_idx,0:encoder_lens[batch_idx]], dim = 0)[0]\u001b[0m\u001b[0;34m\u001b[0m\u001b[0;34m\u001b[0m\u001b[0;34m\u001b[0m\u001b[0m\n\u001b[0;32m---> 42\u001b[0;31m         \u001b[0mdecoder_out\u001b[0m\u001b[0;34m,\u001b[0m \u001b[0mattn_wts\u001b[0m  \u001b[0;34m=\u001b[0m \u001b[0mself\u001b[0m\u001b[0;34m.\u001b[0m\u001b[0mdecoder\u001b[0m\u001b[0;34m(\u001b[0m\u001b[0mx_decoder\u001b[0m\u001b[0;34m,\u001b[0m  \u001b[0mx_decoder_lengths\u001b[0m\u001b[0;34m,\u001b[0m \u001b[0mencoder_out\u001b[0m\u001b[0;34m)\u001b[0m\u001b[0;34m\u001b[0m\u001b[0;34m\u001b[0m\u001b[0m\n\u001b[0m\u001b[1;32m     43\u001b[0m \u001b[0;34m\u001b[0m\u001b[0m\n\u001b[1;32m     44\u001b[0m         \u001b[0;32mreturn\u001b[0m \u001b[0mdecoder_out\u001b[0m\u001b[0;34m,\u001b[0m \u001b[0mattn_wts\u001b[0m\u001b[0;34m\u001b[0m\u001b[0;34m\u001b[0m\u001b[0m\n",
            "\u001b[0;32m/usr/local/lib/python3.8/dist-packages/torch/nn/modules/module.py\u001b[0m in \u001b[0;36m_call_impl\u001b[0;34m(self, *input, **kwargs)\u001b[0m\n\u001b[1;32m   1192\u001b[0m         if not (self._backward_hooks or self._forward_hooks or self._forward_pre_hooks or _global_backward_hooks\n\u001b[1;32m   1193\u001b[0m                 or _global_forward_hooks or _global_forward_pre_hooks):\n\u001b[0;32m-> 1194\u001b[0;31m             \u001b[0;32mreturn\u001b[0m \u001b[0mforward_call\u001b[0m\u001b[0;34m(\u001b[0m\u001b[0;34m*\u001b[0m\u001b[0minput\u001b[0m\u001b[0;34m,\u001b[0m \u001b[0;34m**\u001b[0m\u001b[0mkwargs\u001b[0m\u001b[0;34m)\u001b[0m\u001b[0;34m\u001b[0m\u001b[0;34m\u001b[0m\u001b[0m\n\u001b[0m\u001b[1;32m   1195\u001b[0m         \u001b[0;31m# Do not call functions when jit is used\u001b[0m\u001b[0;34m\u001b[0m\u001b[0;34m\u001b[0m\u001b[0;34m\u001b[0m\u001b[0m\n\u001b[1;32m   1196\u001b[0m         \u001b[0mfull_backward_hooks\u001b[0m\u001b[0;34m,\u001b[0m \u001b[0mnon_full_backward_hooks\u001b[0m \u001b[0;34m=\u001b[0m \u001b[0;34m[\u001b[0m\u001b[0;34m]\u001b[0m\u001b[0;34m,\u001b[0m \u001b[0;34m[\u001b[0m\u001b[0;34m]\u001b[0m\u001b[0;34m\u001b[0m\u001b[0;34m\u001b[0m\u001b[0m\n",
            "\u001b[0;32m<ipython-input-110-381004ee592f>\u001b[0m in \u001b[0;36mforward\u001b[0;34m(self, x, x_lens, encoder_out)\u001b[0m\n\u001b[1;32m     61\u001b[0m         \u001b[0;32mfor\u001b[0m \u001b[0mt\u001b[0m \u001b[0;32min\u001b[0m \u001b[0mrange\u001b[0m\u001b[0;34m(\u001b[0m\u001b[0mdecoder_output\u001b[0m\u001b[0;34m.\u001b[0m\u001b[0mshape\u001b[0m\u001b[0;34m[\u001b[0m\u001b[0;36m1\u001b[0m\u001b[0;34m]\u001b[0m\u001b[0;34m)\u001b[0m\u001b[0;34m:\u001b[0m\u001b[0;34m\u001b[0m\u001b[0;34m\u001b[0m\u001b[0m\n\u001b[1;32m     62\u001b[0m           \u001b[0mattention_context\u001b[0m\u001b[0;34m,\u001b[0m \u001b[0mattention_weights\u001b[0m \u001b[0;34m=\u001b[0m \u001b[0mself\u001b[0m\u001b[0;34m.\u001b[0m\u001b[0mattention\u001b[0m\u001b[0;34m.\u001b[0m\u001b[0mcompute_context\u001b[0m\u001b[0;34m(\u001b[0m\u001b[0mdecoder_output\u001b[0m\u001b[0;34m[\u001b[0m\u001b[0;34m:\u001b[0m\u001b[0;34m,\u001b[0m\u001b[0mt\u001b[0m\u001b[0;34m,\u001b[0m\u001b[0;34m:\u001b[0m\u001b[0;34m]\u001b[0m\u001b[0;34m)\u001b[0m\u001b[0;34m\u001b[0m\u001b[0;34m\u001b[0m\u001b[0m\n\u001b[0;32m---> 63\u001b[0;31m           \u001b[0mtemp\u001b[0m \u001b[0;34m=\u001b[0m \u001b[0mself\u001b[0m\u001b[0;34m.\u001b[0m\u001b[0mmlp\u001b[0m\u001b[0;34m(\u001b[0m\u001b[0mtorch\u001b[0m\u001b[0;34m.\u001b[0m\u001b[0mcat\u001b[0m\u001b[0;34m(\u001b[0m\u001b[0;34m(\u001b[0m\u001b[0mdecoder_output\u001b[0m\u001b[0;34m[\u001b[0m\u001b[0;34m:\u001b[0m\u001b[0;34m,\u001b[0m\u001b[0mt\u001b[0m\u001b[0;34m,\u001b[0m\u001b[0;34m:\u001b[0m\u001b[0;34m]\u001b[0m\u001b[0;34m,\u001b[0m \u001b[0mattention_context\u001b[0m\u001b[0;34m)\u001b[0m\u001b[0;34m,\u001b[0m \u001b[0mdim\u001b[0m \u001b[0;34m=\u001b[0m \u001b[0;36m1\u001b[0m\u001b[0;34m)\u001b[0m\u001b[0;34m)\u001b[0m\u001b[0;34m\u001b[0m\u001b[0;34m\u001b[0m\u001b[0m\n\u001b[0m\u001b[1;32m     64\u001b[0m           \u001b[0mmlp_outputs\u001b[0m\u001b[0;34m.\u001b[0m\u001b[0mappend\u001b[0m\u001b[0;34m(\u001b[0m\u001b[0mtemp\u001b[0m\u001b[0;34m)\u001b[0m\u001b[0;34m\u001b[0m\u001b[0;34m\u001b[0m\u001b[0m\n\u001b[1;32m     65\u001b[0m           \u001b[0mattn_wts\u001b[0m\u001b[0;34m.\u001b[0m\u001b[0mappend\u001b[0m\u001b[0;34m(\u001b[0m\u001b[0mattention_weights\u001b[0m\u001b[0;34m)\u001b[0m\u001b[0;34m\u001b[0m\u001b[0;34m\u001b[0m\u001b[0m\n",
            "\u001b[0;32m/usr/local/lib/python3.8/dist-packages/torch/nn/modules/module.py\u001b[0m in \u001b[0;36m_call_impl\u001b[0;34m(self, *input, **kwargs)\u001b[0m\n\u001b[1;32m   1192\u001b[0m         if not (self._backward_hooks or self._forward_hooks or self._forward_pre_hooks or _global_backward_hooks\n\u001b[1;32m   1193\u001b[0m                 or _global_forward_hooks or _global_forward_pre_hooks):\n\u001b[0;32m-> 1194\u001b[0;31m             \u001b[0;32mreturn\u001b[0m \u001b[0mforward_call\u001b[0m\u001b[0;34m(\u001b[0m\u001b[0;34m*\u001b[0m\u001b[0minput\u001b[0m\u001b[0;34m,\u001b[0m \u001b[0;34m**\u001b[0m\u001b[0mkwargs\u001b[0m\u001b[0;34m)\u001b[0m\u001b[0;34m\u001b[0m\u001b[0;34m\u001b[0m\u001b[0m\n\u001b[0m\u001b[1;32m   1195\u001b[0m         \u001b[0;31m# Do not call functions when jit is used\u001b[0m\u001b[0;34m\u001b[0m\u001b[0;34m\u001b[0m\u001b[0;34m\u001b[0m\u001b[0m\n\u001b[1;32m   1196\u001b[0m         \u001b[0mfull_backward_hooks\u001b[0m\u001b[0;34m,\u001b[0m \u001b[0mnon_full_backward_hooks\u001b[0m \u001b[0;34m=\u001b[0m \u001b[0;34m[\u001b[0m\u001b[0;34m]\u001b[0m\u001b[0;34m,\u001b[0m \u001b[0;34m[\u001b[0m\u001b[0;34m]\u001b[0m\u001b[0;34m\u001b[0m\u001b[0;34m\u001b[0m\u001b[0m\n",
            "\u001b[0;32m/usr/local/lib/python3.8/dist-packages/torch/nn/modules/container.py\u001b[0m in \u001b[0;36mforward\u001b[0;34m(self, input)\u001b[0m\n\u001b[1;32m    202\u001b[0m     \u001b[0;32mdef\u001b[0m \u001b[0mforward\u001b[0m\u001b[0;34m(\u001b[0m\u001b[0mself\u001b[0m\u001b[0;34m,\u001b[0m \u001b[0minput\u001b[0m\u001b[0;34m)\u001b[0m\u001b[0;34m:\u001b[0m\u001b[0;34m\u001b[0m\u001b[0;34m\u001b[0m\u001b[0m\n\u001b[1;32m    203\u001b[0m         \u001b[0;32mfor\u001b[0m \u001b[0mmodule\u001b[0m \u001b[0;32min\u001b[0m \u001b[0mself\u001b[0m\u001b[0;34m:\u001b[0m\u001b[0;34m\u001b[0m\u001b[0;34m\u001b[0m\u001b[0m\n\u001b[0;32m--> 204\u001b[0;31m             \u001b[0minput\u001b[0m \u001b[0;34m=\u001b[0m \u001b[0mmodule\u001b[0m\u001b[0;34m(\u001b[0m\u001b[0minput\u001b[0m\u001b[0;34m)\u001b[0m\u001b[0;34m\u001b[0m\u001b[0;34m\u001b[0m\u001b[0m\n\u001b[0m\u001b[1;32m    205\u001b[0m         \u001b[0;32mreturn\u001b[0m \u001b[0minput\u001b[0m\u001b[0;34m\u001b[0m\u001b[0;34m\u001b[0m\u001b[0m\n\u001b[1;32m    206\u001b[0m \u001b[0;34m\u001b[0m\u001b[0m\n",
            "\u001b[0;32m/usr/local/lib/python3.8/dist-packages/torch/nn/modules/module.py\u001b[0m in \u001b[0;36m_call_impl\u001b[0;34m(self, *input, **kwargs)\u001b[0m\n\u001b[1;32m   1192\u001b[0m         if not (self._backward_hooks or self._forward_hooks or self._forward_pre_hooks or _global_backward_hooks\n\u001b[1;32m   1193\u001b[0m                 or _global_forward_hooks or _global_forward_pre_hooks):\n\u001b[0;32m-> 1194\u001b[0;31m             \u001b[0;32mreturn\u001b[0m \u001b[0mforward_call\u001b[0m\u001b[0;34m(\u001b[0m\u001b[0;34m*\u001b[0m\u001b[0minput\u001b[0m\u001b[0;34m,\u001b[0m \u001b[0;34m**\u001b[0m\u001b[0mkwargs\u001b[0m\u001b[0;34m)\u001b[0m\u001b[0;34m\u001b[0m\u001b[0;34m\u001b[0m\u001b[0m\n\u001b[0m\u001b[1;32m   1195\u001b[0m         \u001b[0;31m# Do not call functions when jit is used\u001b[0m\u001b[0;34m\u001b[0m\u001b[0;34m\u001b[0m\u001b[0;34m\u001b[0m\u001b[0m\n\u001b[1;32m   1196\u001b[0m         \u001b[0mfull_backward_hooks\u001b[0m\u001b[0;34m,\u001b[0m \u001b[0mnon_full_backward_hooks\u001b[0m \u001b[0;34m=\u001b[0m \u001b[0;34m[\u001b[0m\u001b[0;34m]\u001b[0m\u001b[0;34m,\u001b[0m \u001b[0;34m[\u001b[0m\u001b[0;34m]\u001b[0m\u001b[0;34m\u001b[0m\u001b[0;34m\u001b[0m\u001b[0m\n",
            "\u001b[0;32m/usr/local/lib/python3.8/dist-packages/torch/nn/modules/linear.py\u001b[0m in \u001b[0;36mforward\u001b[0;34m(self, input)\u001b[0m\n\u001b[1;32m    112\u001b[0m \u001b[0;34m\u001b[0m\u001b[0m\n\u001b[1;32m    113\u001b[0m     \u001b[0;32mdef\u001b[0m \u001b[0mforward\u001b[0m\u001b[0;34m(\u001b[0m\u001b[0mself\u001b[0m\u001b[0;34m,\u001b[0m \u001b[0minput\u001b[0m\u001b[0;34m:\u001b[0m \u001b[0mTensor\u001b[0m\u001b[0;34m)\u001b[0m \u001b[0;34m->\u001b[0m \u001b[0mTensor\u001b[0m\u001b[0;34m:\u001b[0m\u001b[0;34m\u001b[0m\u001b[0;34m\u001b[0m\u001b[0m\n\u001b[0;32m--> 114\u001b[0;31m         \u001b[0;32mreturn\u001b[0m \u001b[0mF\u001b[0m\u001b[0;34m.\u001b[0m\u001b[0mlinear\u001b[0m\u001b[0;34m(\u001b[0m\u001b[0minput\u001b[0m\u001b[0;34m,\u001b[0m \u001b[0mself\u001b[0m\u001b[0;34m.\u001b[0m\u001b[0mweight\u001b[0m\u001b[0;34m,\u001b[0m \u001b[0mself\u001b[0m\u001b[0;34m.\u001b[0m\u001b[0mbias\u001b[0m\u001b[0;34m)\u001b[0m\u001b[0;34m\u001b[0m\u001b[0;34m\u001b[0m\u001b[0m\n\u001b[0m\u001b[1;32m    115\u001b[0m \u001b[0;34m\u001b[0m\u001b[0m\n\u001b[1;32m    116\u001b[0m     \u001b[0;32mdef\u001b[0m \u001b[0mextra_repr\u001b[0m\u001b[0;34m(\u001b[0m\u001b[0mself\u001b[0m\u001b[0;34m)\u001b[0m \u001b[0;34m->\u001b[0m \u001b[0mstr\u001b[0m\u001b[0;34m:\u001b[0m\u001b[0;34m\u001b[0m\u001b[0;34m\u001b[0m\u001b[0m\n",
            "\u001b[0;31mKeyboardInterrupt\u001b[0m: "
          ]
        }
      ]
    },
    {
      "cell_type": "code",
      "source": [
        "import sys\n",
        "import numpy\n",
        "numpy.set_printoptions(threshold=sys.maxsize)"
      ],
      "metadata": {
        "id": "WqliPm7v0uEy"
      },
      "execution_count": null,
      "outputs": []
    },
    {
      "cell_type": "code",
      "source": [
        "results = []\n",
        "sigmoid = torch.nn.Sigmoid()\n",
        "model.eval()\n",
        "for data in tqdm(val_loader):\n",
        "\n",
        "    x_encoder,x_decoder,y_encoder,y_decoder,lx_encoder,lx_decoder, ly_encoder, ly_decoder = data\n",
        "    x_encoder,x_decoder,y_encoder,y_decoder = x_encoder.to(device),x_decoder.to(device),y_encoder.to(device),y_decoder.to(device)\n",
        "\n",
        "    with torch.no_grad():\n",
        "        decoder_out = model(x_encoder,lx_encoder,y_encoder,x_decoder,lx_decoder)\n",
        "        decoder_out = sigmoid(decoder_out)\n",
        "\n",
        "    #prediction_string = decode_prediction(h, lh, decoder, PHONEME_MAP=LABELS) # TODO call decode_prediction \n",
        "    #TODO save the output in results array.\n",
        "    i = 0\n",
        "    for out in decoder_out.detach().cpu().numpy():\n",
        "      out1 = out[0:lx_decoder[i]]\n",
        "      results.extend(out1)\n",
        "      i+=1\n",
        "    \n",
        "    del x_encoder,x_decoder,y_encoder,y_decoder,lx_encoder,lx_decoder, ly_encoder, ly_decoder,decoder_out \n",
        "    torch.cuda.empty_cache()"
      ],
      "metadata": {
        "id": "XY7dZG8LDpdC"
      },
      "execution_count": null,
      "outputs": []
    },
    {
      "cell_type": "markdown",
      "source": [
        "Extra\n"
      ],
      "metadata": {
        "id": "YhroSFe6IUYV"
      }
    },
    {
      "cell_type": "code",
      "source": [],
      "metadata": {
        "id": "Ono8iieGDB10"
      },
      "execution_count": null,
      "outputs": []
    },
    {
      "cell_type": "code",
      "source": [
        "# class ExcerciseToken(object):\n",
        "#   def __init__(self, token, id, pos_tag, morphological_features, dep_label, dep_edge_head):\n",
        "#     self.token = token\n",
        "#     self.id = id\n",
        "#     self.pos_tag = pos_tag\n",
        "#     self.morphological_features = morphological_features\n",
        "#     self.dep_label = dep_label\n",
        "#     self.dep_edge_head = dep_edge_head\n",
        "  \n",
        "#   def set_label(self, label):\n",
        "#     self.label = label\n"
      ],
      "metadata": {
        "id": "Sz4qwkzDIT2u"
      },
      "execution_count": null,
      "outputs": []
    },
    {
      "cell_type": "code",
      "source": [
        "# class ExcerciseInformation(object):\n",
        "#   def __init__(self):\n",
        "#     self.exercise_tokens = []\n",
        "#     self.prompt = \"\"\n",
        "#     self.user = \"\"\n",
        "#     self.countries = \"\"\n",
        "#     self.days = 0.0\n",
        "#     self.client = \"\"\n",
        "#     self.session = \"\"\n",
        "#     self.format = \"\"\n",
        "#     self.time = 0.0\n",
        "  \n",
        "#   def add_exercise_token(self, excercise_token_info: ExcerciseToken):\n",
        "#     self.exercise_tokens.append(excercise_token_info)\n",
        "  \n",
        "#   def set_prompt(self, prompt: str):\n",
        "#     self.prompt = prompt\n",
        "\n",
        "#   def set_user(self, user: str):\n",
        "#     self.user = user\n",
        "  \n",
        "#   def set_countries(self, countries: str):\n",
        "#     self.countries = countries\n",
        "\n",
        "#   def set_days(self, days: float):\n",
        "#     self.days = days\n",
        "  \n",
        "#   def set_client(self, client: str):\n",
        "#     self.client = client\n",
        "  \n",
        "#   def set_session(self, session: str):\n",
        "#     self.session = session\n",
        "  \n",
        "#   def set_format(self, format: str):\n",
        "#     self.format = format\n",
        "\n",
        "#   def set_time(self, time: float):\n",
        "#     self.time = time\n",
        "  \n",
        "\n"
      ],
      "metadata": {
        "id": "Gxqn_2VPIV_-"
      },
      "execution_count": null,
      "outputs": []
    },
    {
      "cell_type": "code",
      "source": [],
      "metadata": {
        "id": "oOQFNQqHf0-C"
      },
      "execution_count": null,
      "outputs": []
    }
  ]
}